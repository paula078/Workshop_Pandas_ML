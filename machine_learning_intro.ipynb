{
  "nbformat": 4,
  "nbformat_minor": 5,
  "metadata": {
    "kernelspec": {
      "display_name": "Python 3",
      "language": "python",
      "name": "python3"
    },
    "language_info": {
      "codemirror_mode": {
        "name": "ipython",
        "version": 3
      },
      "file_extension": ".py",
      "mimetype": "text/x-python",
      "name": "python",
      "nbconvert_exporter": "python",
      "pygments_lexer": "ipython3",
      "version": "3.9.4"
    },
    "colab": {
      "provenance": [],
      "toc_visible": true
    }
  },
  "cells": [
    {
      "cell_type": "code",
      "metadata": {
        "id": "0d8973b2-9fac-45de-93ae-16fbfe73f825"
      },
      "source": [
        "import pandas as pd\n",
        "import numpy as np\n",
        "import seaborn as sns\n",
        "import matplotlib.pyplot as plt"
      ],
      "id": "0d8973b2-9fac-45de-93ae-16fbfe73f825",
      "execution_count": null,
      "outputs": []
    },
    {
      "cell_type": "markdown",
      "metadata": {
        "id": "38b71971-37ab-482a-b1ff-9d3f153f9b78"
      },
      "source": [
        "### Download data"
      ],
      "id": "38b71971-37ab-482a-b1ff-9d3f153f9b78"
    },
    {
      "cell_type": "code",
      "metadata": {
        "id": "6018df3c-8f21-4e09-9ad5-ec03002096f5",
        "colab": {
          "base_uri": "https://localhost:8080/"
        },
        "outputId": "9147df28-0c63-40dd-d11a-32a13ef45e81"
      },
      "source": [
        "%pip install gdown \n",
        "!gdown --id 1z1TxHd97juldLRPz55SXu4InMwbQhdNL\n",
        "!gdown --id 1MmyHNbYAi6Y4fwS3f7pJDjMy8S9QWvCQ\n",
        "!ls -al"
      ],
      "id": "6018df3c-8f21-4e09-9ad5-ec03002096f5",
      "execution_count": null,
      "outputs": [
        {
          "output_type": "stream",
          "name": "stdout",
          "text": [
            "Looking in indexes: https://pypi.org/simple, https://us-python.pkg.dev/colab-wheels/public/simple/\n",
            "Requirement already satisfied: gdown in /usr/local/lib/python3.8/dist-packages (4.4.0)\n",
            "Requirement already satisfied: requests[socks] in /usr/local/lib/python3.8/dist-packages (from gdown) (2.23.0)\n",
            "Requirement already satisfied: tqdm in /usr/local/lib/python3.8/dist-packages (from gdown) (4.64.1)\n",
            "Requirement already satisfied: beautifulsoup4 in /usr/local/lib/python3.8/dist-packages (from gdown) (4.6.3)\n",
            "Requirement already satisfied: filelock in /usr/local/lib/python3.8/dist-packages (from gdown) (3.8.0)\n",
            "Requirement already satisfied: six in /usr/local/lib/python3.8/dist-packages (from gdown) (1.15.0)\n",
            "Requirement already satisfied: urllib3!=1.25.0,!=1.25.1,<1.26,>=1.21.1 in /usr/local/lib/python3.8/dist-packages (from requests[socks]->gdown) (1.24.3)\n",
            "Requirement already satisfied: certifi>=2017.4.17 in /usr/local/lib/python3.8/dist-packages (from requests[socks]->gdown) (2022.9.24)\n",
            "Requirement already satisfied: idna<3,>=2.5 in /usr/local/lib/python3.8/dist-packages (from requests[socks]->gdown) (2.10)\n",
            "Requirement already satisfied: chardet<4,>=3.0.2 in /usr/local/lib/python3.8/dist-packages (from requests[socks]->gdown) (3.0.4)\n",
            "Requirement already satisfied: PySocks!=1.5.7,>=1.5.6 in /usr/local/lib/python3.8/dist-packages (from requests[socks]->gdown) (1.7.1)\n",
            "/usr/local/lib/python3.8/dist-packages/gdown/cli.py:127: FutureWarning: Option `--id` was deprecated in version 4.3.1 and will be removed in 5.0. You don't need to pass it anymore to use a file ID.\n",
            "  warnings.warn(\n",
            "Downloading...\n",
            "From: https://drive.google.com/uc?id=1z1TxHd97juldLRPz55SXu4InMwbQhdNL\n",
            "To: /content/metabolites.csv\n",
            "100% 1.79M/1.79M [00:00<00:00, 135MB/s]\n",
            "/usr/local/lib/python3.8/dist-packages/gdown/cli.py:127: FutureWarning: Option `--id` was deprecated in version 4.3.1 and will be removed in 5.0. You don't need to pass it anymore to use a file ID.\n",
            "  warnings.warn(\n",
            "Downloading...\n",
            "From: https://drive.google.com/uc?id=1MmyHNbYAi6Y4fwS3f7pJDjMy8S9QWvCQ\n",
            "To: /content/Data_Cortex_Nuclear.csv\n",
            "100% 1.01M/1.01M [00:00<00:00, 139MB/s]\n",
            "total 2752\n",
            "drwxr-xr-x 1 root root    4096 Dec  7 19:04 .\n",
            "drwxr-xr-x 1 root root    4096 Dec  7 12:51 ..\n",
            "drwxr-xr-x 4 root root    4096 Dec  5 14:36 .config\n",
            "-rw-r--r-- 1 root root 1010610 Dec  7 19:04 Data_Cortex_Nuclear.csv\n",
            "-rw-r--r-- 1 root root 1787193 Dec  7 19:04 metabolites.csv\n",
            "drwxr-xr-x 1 root root    4096 Dec  5 14:37 sample_data\n"
          ]
        }
      ]
    },
    {
      "cell_type": "markdown",
      "metadata": {
        "id": "37f40306-6358-4a38-8f05-57550dfb57b5"
      },
      "source": [
        "## Metabolomic dataset\n",
        "\n",
        "The dataset contains information on levels of metabilites in stool samples collected from patients with Colorectal cancer (CRC) and healthy control group.\n",
        "\n",
        "### Metadata\n",
        "* **`Group`** - `Healthy` control group / Various stages of CRC / `HS` - heatlhy with a history of colorectal surgery / `MP` - Multiple polypoid adenomas\n",
        "* **`Stage`** - Stage of disease\n",
        "* **`Age`**\n",
        "* **`Gender`**\n",
        "* **`Brinkman Index`** - Smoking history index\n",
        "* **`Alcohol`** - alcohol consumption (grams per day)\n",
        "* **`Tumor location`**\n",
        "\n",
        "### Metabolites\n",
        "Levels of 450 metabolites\n",
        "\n",
        "### Data Source\n",
        "Dataset is based on *Yachida S, Mizutani S, Shiroma H, et al. Metagenomic and metabolomic analyses reveal distinct stage-specific phenotypes of the gut microbiota in colorectal cancer. Nat Med. 2019;25(6):968-976. doi:10.1038/s41591-019-0458-7*"
      ],
      "id": "37f40306-6358-4a38-8f05-57550dfb57b5"
    },
    {
      "cell_type": "code",
      "metadata": {
        "tags": [],
        "id": "768036c3-af3d-4565-a933-4a1012d4887a",
        "colab": {
          "base_uri": "https://localhost:8080/",
          "height": 366
        },
        "outputId": "d132fd3d-9494-424c-d140-dd33048f65d7"
      },
      "source": [
        "metabolites = pd.read_csv('metabolites.csv', index_col=0)\n",
        "metabolites.head()"
      ],
      "id": "768036c3-af3d-4565-a933-4a1012d4887a",
      "execution_count": null,
      "outputs": [
        {
          "output_type": "execute_result",
          "data": {
            "text/plain": [
              "             Group Stage  Age Gender        BMI  Brinkman Index  Alcohol  \\\n",
              "Sample ID                                                                  \n",
              "10023      Healthy     -   65      M  26.562500           660.0      0.0   \n",
              "10025      Healthy     -   40      M  25.000000           400.0    993.0   \n",
              "10029      Healthy     -   67      F  20.173253             0.0      0.0   \n",
              "10031      Healthy     -   77      M  24.464602           300.0    813.0   \n",
              "10036      Healthy     -   64      F  21.155294             0.0      0.0   \n",
              "\n",
              "          Tumor location  C00024_Acetyl CoA  C01996_Acetylcholine  ...  \\\n",
              "Sample ID                                                          ...   \n",
              "10023                  -           0.000000              1.036026  ...   \n",
              "10025                  -           4.501771              0.457927  ...   \n",
              "10029                  -           0.000000             -0.128546  ...   \n",
              "10031                  -           3.646184              0.259788  ...   \n",
              "10036                  -           0.000000              1.296258  ...   \n",
              "\n",
              "           C00440_5-Methyltetrahydrofolate  C00170_5-Methylthioadenosine  \\\n",
              "Sample ID                                                                  \n",
              "10023                             3.000730                      3.196043   \n",
              "10025                             2.772158                      3.229917   \n",
              "10029                             0.000000                      2.346616   \n",
              "10031                             2.535716                      3.120999   \n",
              "10036                             3.716767                      2.271742   \n",
              "\n",
              "           C01879_5-Oxoproline  C02378_6-Aminohexanoate  \\\n",
              "Sample ID                                                 \n",
              "10023                 4.321721                 0.000000   \n",
              "10025                 5.143740                 0.000000   \n",
              "10029                 5.392691                 2.511281   \n",
              "10031                 4.679146                 0.000000   \n",
              "10036                 4.723737                 0.000000   \n",
              "\n",
              "           C06103_6-Hydroxyhexanoate  C01020_6-Hydroxynicotinate  \\\n",
              "Sample ID                                                          \n",
              "10023                            0.0                         0.0   \n",
              "10025                            0.0                         0.0   \n",
              "10029                            0.0                         0.0   \n",
              "10031                            0.0                         0.0   \n",
              "10036                            0.0                         0.0   \n",
              "\n",
              "           C08434_6-Methylaminopurine  C02953_7,8-Dihydrobiopterin  \\\n",
              "Sample ID                                                            \n",
              "10023                             0.0                     1.290214   \n",
              "10025                             0.0                     2.751319   \n",
              "10029                             0.0                     0.000000   \n",
              "10031                             0.0                     3.267578   \n",
              "10036                             0.0                     0.000000   \n",
              "\n",
              "           C04874_7,8-Dihydroneopterin  C02242_7-Methylguanine  \n",
              "Sample ID                                                       \n",
              "10023                          0.00000                4.452146  \n",
              "10025                          0.00000                4.411868  \n",
              "10029                          2.82316                4.442370  \n",
              "10031                          0.00000                4.385342  \n",
              "10036                          0.00000                3.823966  \n",
              "\n",
              "[5 rows x 458 columns]"
            ],
            "text/html": [
              "\n",
              "  <div id=\"df-66282a47-683e-4ae1-acf6-9e126f286b1f\">\n",
              "    <div class=\"colab-df-container\">\n",
              "      <div>\n",
              "<style scoped>\n",
              "    .dataframe tbody tr th:only-of-type {\n",
              "        vertical-align: middle;\n",
              "    }\n",
              "\n",
              "    .dataframe tbody tr th {\n",
              "        vertical-align: top;\n",
              "    }\n",
              "\n",
              "    .dataframe thead th {\n",
              "        text-align: right;\n",
              "    }\n",
              "</style>\n",
              "<table border=\"1\" class=\"dataframe\">\n",
              "  <thead>\n",
              "    <tr style=\"text-align: right;\">\n",
              "      <th></th>\n",
              "      <th>Group</th>\n",
              "      <th>Stage</th>\n",
              "      <th>Age</th>\n",
              "      <th>Gender</th>\n",
              "      <th>BMI</th>\n",
              "      <th>Brinkman Index</th>\n",
              "      <th>Alcohol</th>\n",
              "      <th>Tumor location</th>\n",
              "      <th>C00024_Acetyl CoA</th>\n",
              "      <th>C01996_Acetylcholine</th>\n",
              "      <th>...</th>\n",
              "      <th>C00440_5-Methyltetrahydrofolate</th>\n",
              "      <th>C00170_5-Methylthioadenosine</th>\n",
              "      <th>C01879_5-Oxoproline</th>\n",
              "      <th>C02378_6-Aminohexanoate</th>\n",
              "      <th>C06103_6-Hydroxyhexanoate</th>\n",
              "      <th>C01020_6-Hydroxynicotinate</th>\n",
              "      <th>C08434_6-Methylaminopurine</th>\n",
              "      <th>C02953_7,8-Dihydrobiopterin</th>\n",
              "      <th>C04874_7,8-Dihydroneopterin</th>\n",
              "      <th>C02242_7-Methylguanine</th>\n",
              "    </tr>\n",
              "    <tr>\n",
              "      <th>Sample ID</th>\n",
              "      <th></th>\n",
              "      <th></th>\n",
              "      <th></th>\n",
              "      <th></th>\n",
              "      <th></th>\n",
              "      <th></th>\n",
              "      <th></th>\n",
              "      <th></th>\n",
              "      <th></th>\n",
              "      <th></th>\n",
              "      <th></th>\n",
              "      <th></th>\n",
              "      <th></th>\n",
              "      <th></th>\n",
              "      <th></th>\n",
              "      <th></th>\n",
              "      <th></th>\n",
              "      <th></th>\n",
              "      <th></th>\n",
              "      <th></th>\n",
              "      <th></th>\n",
              "    </tr>\n",
              "  </thead>\n",
              "  <tbody>\n",
              "    <tr>\n",
              "      <th>10023</th>\n",
              "      <td>Healthy</td>\n",
              "      <td>-</td>\n",
              "      <td>65</td>\n",
              "      <td>M</td>\n",
              "      <td>26.562500</td>\n",
              "      <td>660.0</td>\n",
              "      <td>0.0</td>\n",
              "      <td>-</td>\n",
              "      <td>0.000000</td>\n",
              "      <td>1.036026</td>\n",
              "      <td>...</td>\n",
              "      <td>3.000730</td>\n",
              "      <td>3.196043</td>\n",
              "      <td>4.321721</td>\n",
              "      <td>0.000000</td>\n",
              "      <td>0.0</td>\n",
              "      <td>0.0</td>\n",
              "      <td>0.0</td>\n",
              "      <td>1.290214</td>\n",
              "      <td>0.00000</td>\n",
              "      <td>4.452146</td>\n",
              "    </tr>\n",
              "    <tr>\n",
              "      <th>10025</th>\n",
              "      <td>Healthy</td>\n",
              "      <td>-</td>\n",
              "      <td>40</td>\n",
              "      <td>M</td>\n",
              "      <td>25.000000</td>\n",
              "      <td>400.0</td>\n",
              "      <td>993.0</td>\n",
              "      <td>-</td>\n",
              "      <td>4.501771</td>\n",
              "      <td>0.457927</td>\n",
              "      <td>...</td>\n",
              "      <td>2.772158</td>\n",
              "      <td>3.229917</td>\n",
              "      <td>5.143740</td>\n",
              "      <td>0.000000</td>\n",
              "      <td>0.0</td>\n",
              "      <td>0.0</td>\n",
              "      <td>0.0</td>\n",
              "      <td>2.751319</td>\n",
              "      <td>0.00000</td>\n",
              "      <td>4.411868</td>\n",
              "    </tr>\n",
              "    <tr>\n",
              "      <th>10029</th>\n",
              "      <td>Healthy</td>\n",
              "      <td>-</td>\n",
              "      <td>67</td>\n",
              "      <td>F</td>\n",
              "      <td>20.173253</td>\n",
              "      <td>0.0</td>\n",
              "      <td>0.0</td>\n",
              "      <td>-</td>\n",
              "      <td>0.000000</td>\n",
              "      <td>-0.128546</td>\n",
              "      <td>...</td>\n",
              "      <td>0.000000</td>\n",
              "      <td>2.346616</td>\n",
              "      <td>5.392691</td>\n",
              "      <td>2.511281</td>\n",
              "      <td>0.0</td>\n",
              "      <td>0.0</td>\n",
              "      <td>0.0</td>\n",
              "      <td>0.000000</td>\n",
              "      <td>2.82316</td>\n",
              "      <td>4.442370</td>\n",
              "    </tr>\n",
              "    <tr>\n",
              "      <th>10031</th>\n",
              "      <td>Healthy</td>\n",
              "      <td>-</td>\n",
              "      <td>77</td>\n",
              "      <td>M</td>\n",
              "      <td>24.464602</td>\n",
              "      <td>300.0</td>\n",
              "      <td>813.0</td>\n",
              "      <td>-</td>\n",
              "      <td>3.646184</td>\n",
              "      <td>0.259788</td>\n",
              "      <td>...</td>\n",
              "      <td>2.535716</td>\n",
              "      <td>3.120999</td>\n",
              "      <td>4.679146</td>\n",
              "      <td>0.000000</td>\n",
              "      <td>0.0</td>\n",
              "      <td>0.0</td>\n",
              "      <td>0.0</td>\n",
              "      <td>3.267578</td>\n",
              "      <td>0.00000</td>\n",
              "      <td>4.385342</td>\n",
              "    </tr>\n",
              "    <tr>\n",
              "      <th>10036</th>\n",
              "      <td>Healthy</td>\n",
              "      <td>-</td>\n",
              "      <td>64</td>\n",
              "      <td>F</td>\n",
              "      <td>21.155294</td>\n",
              "      <td>0.0</td>\n",
              "      <td>0.0</td>\n",
              "      <td>-</td>\n",
              "      <td>0.000000</td>\n",
              "      <td>1.296258</td>\n",
              "      <td>...</td>\n",
              "      <td>3.716767</td>\n",
              "      <td>2.271742</td>\n",
              "      <td>4.723737</td>\n",
              "      <td>0.000000</td>\n",
              "      <td>0.0</td>\n",
              "      <td>0.0</td>\n",
              "      <td>0.0</td>\n",
              "      <td>0.000000</td>\n",
              "      <td>0.00000</td>\n",
              "      <td>3.823966</td>\n",
              "    </tr>\n",
              "  </tbody>\n",
              "</table>\n",
              "<p>5 rows × 458 columns</p>\n",
              "</div>\n",
              "      <button class=\"colab-df-convert\" onclick=\"convertToInteractive('df-66282a47-683e-4ae1-acf6-9e126f286b1f')\"\n",
              "              title=\"Convert this dataframe to an interactive table.\"\n",
              "              style=\"display:none;\">\n",
              "        \n",
              "  <svg xmlns=\"http://www.w3.org/2000/svg\" height=\"24px\"viewBox=\"0 0 24 24\"\n",
              "       width=\"24px\">\n",
              "    <path d=\"M0 0h24v24H0V0z\" fill=\"none\"/>\n",
              "    <path d=\"M18.56 5.44l.94 2.06.94-2.06 2.06-.94-2.06-.94-.94-2.06-.94 2.06-2.06.94zm-11 1L8.5 8.5l.94-2.06 2.06-.94-2.06-.94L8.5 2.5l-.94 2.06-2.06.94zm10 10l.94 2.06.94-2.06 2.06-.94-2.06-.94-.94-2.06-.94 2.06-2.06.94z\"/><path d=\"M17.41 7.96l-1.37-1.37c-.4-.4-.92-.59-1.43-.59-.52 0-1.04.2-1.43.59L10.3 9.45l-7.72 7.72c-.78.78-.78 2.05 0 2.83L4 21.41c.39.39.9.59 1.41.59.51 0 1.02-.2 1.41-.59l7.78-7.78 2.81-2.81c.8-.78.8-2.07 0-2.86zM5.41 20L4 18.59l7.72-7.72 1.47 1.35L5.41 20z\"/>\n",
              "  </svg>\n",
              "      </button>\n",
              "      \n",
              "  <style>\n",
              "    .colab-df-container {\n",
              "      display:flex;\n",
              "      flex-wrap:wrap;\n",
              "      gap: 12px;\n",
              "    }\n",
              "\n",
              "    .colab-df-convert {\n",
              "      background-color: #E8F0FE;\n",
              "      border: none;\n",
              "      border-radius: 50%;\n",
              "      cursor: pointer;\n",
              "      display: none;\n",
              "      fill: #1967D2;\n",
              "      height: 32px;\n",
              "      padding: 0 0 0 0;\n",
              "      width: 32px;\n",
              "    }\n",
              "\n",
              "    .colab-df-convert:hover {\n",
              "      background-color: #E2EBFA;\n",
              "      box-shadow: 0px 1px 2px rgba(60, 64, 67, 0.3), 0px 1px 3px 1px rgba(60, 64, 67, 0.15);\n",
              "      fill: #174EA6;\n",
              "    }\n",
              "\n",
              "    [theme=dark] .colab-df-convert {\n",
              "      background-color: #3B4455;\n",
              "      fill: #D2E3FC;\n",
              "    }\n",
              "\n",
              "    [theme=dark] .colab-df-convert:hover {\n",
              "      background-color: #434B5C;\n",
              "      box-shadow: 0px 1px 3px 1px rgba(0, 0, 0, 0.15);\n",
              "      filter: drop-shadow(0px 1px 2px rgba(0, 0, 0, 0.3));\n",
              "      fill: #FFFFFF;\n",
              "    }\n",
              "  </style>\n",
              "\n",
              "      <script>\n",
              "        const buttonEl =\n",
              "          document.querySelector('#df-66282a47-683e-4ae1-acf6-9e126f286b1f button.colab-df-convert');\n",
              "        buttonEl.style.display =\n",
              "          google.colab.kernel.accessAllowed ? 'block' : 'none';\n",
              "\n",
              "        async function convertToInteractive(key) {\n",
              "          const element = document.querySelector('#df-66282a47-683e-4ae1-acf6-9e126f286b1f');\n",
              "          const dataTable =\n",
              "            await google.colab.kernel.invokeFunction('convertToInteractive',\n",
              "                                                     [key], {});\n",
              "          if (!dataTable) return;\n",
              "\n",
              "          const docLinkHtml = 'Like what you see? Visit the ' +\n",
              "            '<a target=\"_blank\" href=https://colab.research.google.com/notebooks/data_table.ipynb>data table notebook</a>'\n",
              "            + ' to learn more about interactive tables.';\n",
              "          element.innerHTML = '';\n",
              "          dataTable['output_type'] = 'display_data';\n",
              "          await google.colab.output.renderOutput(dataTable, element);\n",
              "          const docLink = document.createElement('div');\n",
              "          docLink.innerHTML = docLinkHtml;\n",
              "          element.appendChild(docLink);\n",
              "        }\n",
              "      </script>\n",
              "    </div>\n",
              "  </div>\n",
              "  "
            ]
          },
          "metadata": {},
          "execution_count": 69
        }
      ]
    },
    {
      "cell_type": "code",
      "metadata": {
        "id": "f8e3a18c-af55-4c2a-a582-81e6d1f66c0f",
        "colab": {
          "base_uri": "https://localhost:8080/"
        },
        "outputId": "406c8cdb-b3b5-42fd-be96-f64ef6c55788"
      },
      "source": [
        "metabolites.shape"
      ],
      "id": "f8e3a18c-af55-4c2a-a582-81e6d1f66c0f",
      "execution_count": null,
      "outputs": [
        {
          "output_type": "execute_result",
          "data": {
            "text/plain": [
              "(406, 458)"
            ]
          },
          "metadata": {},
          "execution_count": 70
        }
      ]
    },
    {
      "cell_type": "markdown",
      "metadata": {
        "id": "efe77301-b9fc-451a-988e-bc4ca7b2f01b"
      },
      "source": [
        "# Exploratory Data Analysis"
      ],
      "id": "efe77301-b9fc-451a-988e-bc4ca7b2f01b"
    },
    {
      "cell_type": "markdown",
      "metadata": {
        "id": "c606ea30-9bb3-48ec-bedc-ae308c239942"
      },
      "source": [
        "## Categorical variables"
      ],
      "id": "c606ea30-9bb3-48ec-bedc-ae308c239942"
    },
    {
      "cell_type": "code",
      "metadata": {
        "id": "012c1efe-6826-49d3-ad4e-35d69095ef2c",
        "colab": {
          "base_uri": "https://localhost:8080/"
        },
        "outputId": "c600fa73-4c4a-467b-f86e-c3e064c9f45c"
      },
      "source": [
        "metabolites['Group'].value_counts()"
      ],
      "id": "012c1efe-6826-49d3-ad4e-35d69095ef2c",
      "execution_count": null,
      "outputs": [
        {
          "output_type": "execute_result",
          "data": {
            "text/plain": [
              "Healthy         149\n",
              "Stage_I_II       80\n",
              "Stage_III_IV     68\n",
              "MP               45\n",
              "HS               34\n",
              "Stage_0          30\n",
              "Name: Group, dtype: int64"
            ]
          },
          "metadata": {},
          "execution_count": 71
        }
      ]
    },
    {
      "cell_type": "code",
      "metadata": {
        "id": "c0a026e6-be6c-41e9-9c33-3c1f61dd2ff9",
        "colab": {
          "base_uri": "https://localhost:8080/",
          "height": 282
        },
        "outputId": "07acc116-d3b2-4e17-bf72-3f830245dabd"
      },
      "source": [
        "metabolites['Group'].value_counts().plot(kind='barh')"
      ],
      "id": "c0a026e6-be6c-41e9-9c33-3c1f61dd2ff9",
      "execution_count": null,
      "outputs": [
        {
          "output_type": "execute_result",
          "data": {
            "text/plain": [
              "<matplotlib.axes._subplots.AxesSubplot at 0x7fe3987782b0>"
            ]
          },
          "metadata": {},
          "execution_count": 72
        },
        {
          "output_type": "display_data",
          "data": {
            "text/plain": [
              "<Figure size 432x288 with 1 Axes>"
            ],
            "image/png": "[encoded data removed]"
          },
          "metadata": {
            "needs_background": "light"
          }
        }
      ]
    },
    {
      "cell_type": "code",
      "metadata": {
        "id": "31b43c59-e33f-4ad7-881e-daacd126b713",
        "colab": {
          "base_uri": "https://localhost:8080/",
          "height": 296
        },
        "outputId": "9a359e55-8f10-49a0-c6aa-041294c8a545"
      },
      "source": [
        "sns.countplot(\n",
        "    data=metabolites,\n",
        "    y='Group',\n",
        ")"
      ],
      "id": "31b43c59-e33f-4ad7-881e-daacd126b713",
      "execution_count": null,
      "outputs": [
        {
          "output_type": "execute_result",
          "data": {
            "text/plain": [
              "<matplotlib.axes._subplots.AxesSubplot at 0x7fe39866f790>"
            ]
          },
          "metadata": {},
          "execution_count": 75
        },
        {
          "output_type": "display_data",
          "data": {
            "text/plain": [
              "<Figure size 432x288 with 1 Axes>"
            ],
            "image/png": "[encoded data removed]"
          },
          "metadata": {
            "needs_background": "light"
          }
        }
      ]
    },
    {
      "cell_type": "markdown",
      "metadata": {
        "id": "7523444f-c74e-4227-84e1-43bffbd2f053"
      },
      "source": [
        "## Continuous variables"
      ],
      "id": "7523444f-c74e-4227-84e1-43bffbd2f053"
    },
    {
      "cell_type": "code",
      "metadata": {
        "id": "c367727f-a522-4290-bc69-6f2eed9ad6f4",
        "colab": {
          "base_uri": "https://localhost:8080/"
        },
        "outputId": "3a8cc8fc-92b7-4a57-b0e4-0a5f3e40a74a"
      },
      "source": [
        "metabolites['Age'].value_counts().head()"
      ],
      "id": "c367727f-a522-4290-bc69-6f2eed9ad6f4",
      "execution_count": null,
      "outputs": [
        {
          "output_type": "execute_result",
          "data": {
            "text/plain": [
              "69    22\n",
              "70    20\n",
              "73    20\n",
              "64    19\n",
              "66    18\n",
              "Name: Age, dtype: int64"
            ]
          },
          "metadata": {},
          "execution_count": 76
        }
      ]
    },
    {
      "cell_type": "code",
      "metadata": {
        "id": "1e7ee727-e6d6-4acd-ae28-ea3d35ee43a6",
        "colab": {
          "base_uri": "https://localhost:8080/",
          "height": 282
        },
        "outputId": "592ca478-9561-4139-a312-a23ddca68a07"
      },
      "source": [
        "metabolites['Age'].plot(kind='hist')"
      ],
      "id": "1e7ee727-e6d6-4acd-ae28-ea3d35ee43a6",
      "execution_count": null,
      "outputs": [
        {
          "output_type": "execute_result",
          "data": {
            "text/plain": [
              "<matplotlib.axes._subplots.AxesSubplot at 0x7fe3983e2970>"
            ]
          },
          "metadata": {},
          "execution_count": 77
        },
        {
          "output_type": "display_data",
          "data": {
            "text/plain": [
              "<Figure size 432x288 with 1 Axes>"
            ],
            "image/png": "[encoded data removed]"
          },
          "metadata": {
            "needs_background": "light"
          }
        }
      ]
    },
    {
      "cell_type": "code",
      "metadata": {
        "id": "f900e674-e6ad-40dc-ac7d-da94c545517c",
        "colab": {
          "base_uri": "https://localhost:8080/",
          "height": 312
        },
        "outputId": "ae895c3e-0fc7-46e5-8b6a-9282db310cf6"
      },
      "source": [
        "ax = sns.histplot(\n",
        "    data=metabolites,\n",
        "    x='Age',\n",
        ")\n",
        "\n",
        "ax.set_title('Age')"
      ],
      "id": "f900e674-e6ad-40dc-ac7d-da94c545517c",
      "execution_count": null,
      "outputs": [
        {
          "output_type": "execute_result",
          "data": {
            "text/plain": [
              "Text(0.5, 1.0, 'Age')"
            ]
          },
          "metadata": {},
          "execution_count": 78
        },
        {
          "output_type": "display_data",
          "data": {
            "text/plain": [
              "<Figure size 432x288 with 1 Axes>"
            ],
            "image/png": "[encoded data removed]"
          },
          "metadata": {
            "needs_background": "light"
          }
        }
      ]
    },
    {
      "cell_type": "markdown",
      "metadata": {
        "id": "d35b3a12-58f1-4243-9d16-036b0f2d985e"
      },
      "source": [
        "## $\\color{purple}{\\text{Exercise 1}}$\n",
        "\n",
        "1. Create a FOR loop that plots `countplots` for all discrete variables (`Group`, `Stage`, `Gender`, `Tumor location`). Set a title for every plot.\n",
        "2. Create a FOR loop that plots histograms for some of continuous variables (e.g. `Age`, `BMI`, `Brinkman Index`, `Alcohol`, `C00008_ADP`). Set a title for every plot.\n",
        "\n",
        "*hint: use plt.show() at the end of each iteration to actually plot to notebook*\n",
        "\n",
        "[5 min]"
      ],
      "id": "d35b3a12-58f1-4243-9d16-036b0f2d985e"
    },
    {
      "cell_type": "code",
      "metadata": {
        "id": "b0dd044d-f144-4487-950f-e0eb12923ef9",
        "colab": {
          "base_uri": "https://localhost:8080/",
          "height": 1000
        },
        "outputId": "2bbe0e11-2d99-4440-a7b2-90768c902710"
      },
      "source": [
        "# Your code goes here:\n",
        "for var in ['Group', 'Stage', 'Gender', 'Tumor location']:\n",
        "    ax = sns.countplot(\n",
        "        data=metabolites,\n",
        "        y=var\n",
        "    )\n",
        "    ax.set_title(var)\n",
        "    plt.show()\n"
      ],
      "id": "b0dd044d-f144-4487-950f-e0eb12923ef9",
      "execution_count": null,
      "outputs": [
        {
          "output_type": "display_data",
          "data": {
            "text/plain": [
              "<Figure size 432x288 with 1 Axes>"
            ],
            "image/png": "[encoded data removed]"
          },
          "metadata": {
            "needs_background": "light"
          }
        },
        {
          "output_type": "display_data",
          "data": {
            "text/plain": [
              "<Figure size 432x288 with 1 Axes>"
            ],
            "image/png": "[encoded data removed]"
          },
          "metadata": {
            "needs_background": "light"
          }
        },
        {
          "output_type": "display_data",
          "data": {
            "text/plain": [
              "<Figure size 432x288 with 1 Axes>"
            ],
            "image/png": "[encoded data removed]"
          },
          "metadata": {
            "needs_background": "light"
          }
        },
        {
          "output_type": "display_data",
          "data": {
            "text/plain": [
              "<Figure size 432x288 with 1 Axes>"
            ],
            "image/png": "[encoded data removed]"
          },
          "metadata": {
            "needs_background": "light"
          }
        }
      ]
    },
    {
      "cell_type": "code",
      "metadata": {
        "id": "9085bb24-7e27-4566-8000-b728de6ab1fa",
        "colab": {
          "base_uri": "https://localhost:8080/",
          "height": 1000
        },
        "outputId": "cedc7433-ca60-4b76-9f32-65e1b5a975b4"
      },
      "source": [
        "# Your code goes here:\n",
        "for var in ['Age', 'BMI', 'Brinkman Index', 'Alcohol', 'C00008_ADP']:\n",
        "    ax = sns.histplot(\n",
        "        data=metabolites,\n",
        "        x=var\n",
        "    )\n",
        "    ax.set_title(var)\n",
        "    plt.show()\n"
      ],
      "id": "9085bb24-7e27-4566-8000-b728de6ab1fa",
      "execution_count": null,
      "outputs": [
        {
          "output_type": "display_data",
          "data": {
            "text/plain": [
              "<Figure size 432x288 with 1 Axes>"
            ],
            "image/png": "[encoded data removed]"
          },
          "metadata": {
            "needs_background": "light"
          }
        },
        {
          "output_type": "display_data",
          "data": {
            "text/plain": [
              "<Figure size 432x288 with 1 Axes>"
            ],
            "image/png": "[encoded data removed]"
          },
          "metadata": {
            "needs_background": "light"
          }
        },
        {
          "output_type": "display_data",
          "data": {
            "text/plain": [
              "<Figure size 432x288 with 1 Axes>"
            ],
            "image/png": "[encoded data removed]"
          },
          "metadata": {
            "needs_background": "light"
          }
        },
        {
          "output_type": "display_data",
          "data": {
            "text/plain": [
              "<Figure size 432x288 with 1 Axes>"
            ],
            "image/png": "[encoded data removed]"
          },
          "metadata": {
            "needs_background": "light"
          }
        },
        {
          "output_type": "display_data",
          "data": {
            "text/plain": [
              "<Figure size 432x288 with 1 Axes>"
            ],
            "image/png": "[encoded data removed]"
          },
          "metadata": {
            "needs_background": "light"
          }
        }
      ]
    },
    {
      "cell_type": "markdown",
      "metadata": {
        "id": "c43dbd34-6238-40b9-b647-c203acc2a14e"
      },
      "source": [
        "## Relations between variables"
      ],
      "id": "c43dbd34-6238-40b9-b647-c203acc2a14e"
    },
    {
      "cell_type": "markdown",
      "metadata": {
        "id": "7834f2ba-6c1c-4746-a82e-3ca89821c2d8"
      },
      "source": [
        "### **Discrete** - **Discrete** pairs"
      ],
      "id": "7834f2ba-6c1c-4746-a82e-3ca89821c2d8"
    },
    {
      "cell_type": "code",
      "metadata": {
        "id": "20372656-6556-418f-82ef-5f45330a7474",
        "colab": {
          "base_uri": "https://localhost:8080/",
          "height": 269
        },
        "outputId": "a080f612-c6a8-42e7-ce8d-c1f21fca8700"
      },
      "source": [
        "metabolites.groupby('Gender')['Tumor location'].value_counts().unstack(0)"
      ],
      "id": "20372656-6556-418f-82ef-5f45330a7474",
      "execution_count": null,
      "outputs": [
        {
          "output_type": "execute_result",
          "data": {
            "text/plain": [
              "Gender                                 F      M\n",
              "Tumor location                                 \n",
              "-                                   91.0  137.0\n",
              "Left colon                          16.0   20.0\n",
              "Left colon and Right colon           1.0    3.0\n",
              "Rectum                              30.0   52.0\n",
              "Rectum, Left colon and Right colon   NaN    1.0\n",
              "Right colon                         28.0   27.0"
            ],
            "text/html": [
              "\n",
              "  <div id=\"df-d5763e2a-6a09-4a28-9616-36609b2cd963\">\n",
              "    <div class=\"colab-df-container\">\n",
              "      <div>\n",
              "<style scoped>\n",
              "    .dataframe tbody tr th:only-of-type {\n",
              "        vertical-align: middle;\n",
              "    }\n",
              "\n",
              "    .dataframe tbody tr th {\n",
              "        vertical-align: top;\n",
              "    }\n",
              "\n",
              "    .dataframe thead th {\n",
              "        text-align: right;\n",
              "    }\n",
              "</style>\n",
              "<table border=\"1\" class=\"dataframe\">\n",
              "  <thead>\n",
              "    <tr style=\"text-align: right;\">\n",
              "      <th>Gender</th>\n",
              "      <th>F</th>\n",
              "      <th>M</th>\n",
              "    </tr>\n",
              "    <tr>\n",
              "      <th>Tumor location</th>\n",
              "      <th></th>\n",
              "      <th></th>\n",
              "    </tr>\n",
              "  </thead>\n",
              "  <tbody>\n",
              "    <tr>\n",
              "      <th>-</th>\n",
              "      <td>91.0</td>\n",
              "      <td>137.0</td>\n",
              "    </tr>\n",
              "    <tr>\n",
              "      <th>Left colon</th>\n",
              "      <td>16.0</td>\n",
              "      <td>20.0</td>\n",
              "    </tr>\n",
              "    <tr>\n",
              "      <th>Left colon and Right colon</th>\n",
              "      <td>1.0</td>\n",
              "      <td>3.0</td>\n",
              "    </tr>\n",
              "    <tr>\n",
              "      <th>Rectum</th>\n",
              "      <td>30.0</td>\n",
              "      <td>52.0</td>\n",
              "    </tr>\n",
              "    <tr>\n",
              "      <th>Rectum, Left colon and Right colon</th>\n",
              "      <td>NaN</td>\n",
              "      <td>1.0</td>\n",
              "    </tr>\n",
              "    <tr>\n",
              "      <th>Right colon</th>\n",
              "      <td>28.0</td>\n",
              "      <td>27.0</td>\n",
              "    </tr>\n",
              "  </tbody>\n",
              "</table>\n",
              "</div>\n",
              "      <button class=\"colab-df-convert\" onclick=\"convertToInteractive('df-d5763e2a-6a09-4a28-9616-36609b2cd963')\"\n",
              "              title=\"Convert this dataframe to an interactive table.\"\n",
              "              style=\"display:none;\">\n",
              "        \n",
              "  <svg xmlns=\"http://www.w3.org/2000/svg\" height=\"24px\"viewBox=\"0 0 24 24\"\n",
              "       width=\"24px\">\n",
              "    <path d=\"M0 0h24v24H0V0z\" fill=\"none\"/>\n",
              "    <path d=\"M18.56 5.44l.94 2.06.94-2.06 2.06-.94-2.06-.94-.94-2.06-.94 2.06-2.06.94zm-11 1L8.5 8.5l.94-2.06 2.06-.94-2.06-.94L8.5 2.5l-.94 2.06-2.06.94zm10 10l.94 2.06.94-2.06 2.06-.94-2.06-.94-.94-2.06-.94 2.06-2.06.94z\"/><path d=\"M17.41 7.96l-1.37-1.37c-.4-.4-.92-.59-1.43-.59-.52 0-1.04.2-1.43.59L10.3 9.45l-7.72 7.72c-.78.78-.78 2.05 0 2.83L4 21.41c.39.39.9.59 1.41.59.51 0 1.02-.2 1.41-.59l7.78-7.78 2.81-2.81c.8-.78.8-2.07 0-2.86zM5.41 20L4 18.59l7.72-7.72 1.47 1.35L5.41 20z\"/>\n",
              "  </svg>\n",
              "      </button>\n",
              "      \n",
              "  <style>\n",
              "    .colab-df-container {\n",
              "      display:flex;\n",
              "      flex-wrap:wrap;\n",
              "      gap: 12px;\n",
              "    }\n",
              "\n",
              "    .colab-df-convert {\n",
              "      background-color: #E8F0FE;\n",
              "      border: none;\n",
              "      border-radius: 50%;\n",
              "      cursor: pointer;\n",
              "      display: none;\n",
              "      fill: #1967D2;\n",
              "      height: 32px;\n",
              "      padding: 0 0 0 0;\n",
              "      width: 32px;\n",
              "    }\n",
              "\n",
              "    .colab-df-convert:hover {\n",
              "      background-color: #E2EBFA;\n",
              "      box-shadow: 0px 1px 2px rgba(60, 64, 67, 0.3), 0px 1px 3px 1px rgba(60, 64, 67, 0.15);\n",
              "      fill: #174EA6;\n",
              "    }\n",
              "\n",
              "    [theme=dark] .colab-df-convert {\n",
              "      background-color: #3B4455;\n",
              "      fill: #D2E3FC;\n",
              "    }\n",
              "\n",
              "    [theme=dark] .colab-df-convert:hover {\n",
              "      background-color: #434B5C;\n",
              "      box-shadow: 0px 1px 3px 1px rgba(0, 0, 0, 0.15);\n",
              "      filter: drop-shadow(0px 1px 2px rgba(0, 0, 0, 0.3));\n",
              "      fill: #FFFFFF;\n",
              "    }\n",
              "  </style>\n",
              "\n",
              "      <script>\n",
              "        const buttonEl =\n",
              "          document.querySelector('#df-d5763e2a-6a09-4a28-9616-36609b2cd963 button.colab-df-convert');\n",
              "        buttonEl.style.display =\n",
              "          google.colab.kernel.accessAllowed ? 'block' : 'none';\n",
              "\n",
              "        async function convertToInteractive(key) {\n",
              "          const element = document.querySelector('#df-d5763e2a-6a09-4a28-9616-36609b2cd963');\n",
              "          const dataTable =\n",
              "            await google.colab.kernel.invokeFunction('convertToInteractive',\n",
              "                                                     [key], {});\n",
              "          if (!dataTable) return;\n",
              "\n",
              "          const docLinkHtml = 'Like what you see? Visit the ' +\n",
              "            '<a target=\"_blank\" href=https://colab.research.google.com/notebooks/data_table.ipynb>data table notebook</a>'\n",
              "            + ' to learn more about interactive tables.';\n",
              "          element.innerHTML = '';\n",
              "          dataTable['output_type'] = 'display_data';\n",
              "          await google.colab.output.renderOutput(dataTable, element);\n",
              "          const docLink = document.createElement('div');\n",
              "          docLink.innerHTML = docLinkHtml;\n",
              "          element.appendChild(docLink);\n",
              "        }\n",
              "      </script>\n",
              "    </div>\n",
              "  </div>\n",
              "  "
            ]
          },
          "metadata": {},
          "execution_count": 81
        }
      ]
    },
    {
      "cell_type": "code",
      "metadata": {
        "id": "2719af38-45a6-4753-b004-216138089e26",
        "colab": {
          "base_uri": "https://localhost:8080/",
          "height": 296
        },
        "outputId": "75b946f4-aab3-4d9e-9416-6fdf91cac1a2"
      },
      "source": [
        "sns.countplot(\n",
        "    data=metabolites,\n",
        "    y='Tumor location',\n",
        "    hue='Gender'\n",
        ")"
      ],
      "id": "2719af38-45a6-4753-b004-216138089e26",
      "execution_count": null,
      "outputs": [
        {
          "output_type": "execute_result",
          "data": {
            "text/plain": [
              "<matplotlib.axes._subplots.AxesSubplot at 0x7fe397ec4430>"
            ]
          },
          "metadata": {},
          "execution_count": 82
        },
        {
          "output_type": "display_data",
          "data": {
            "text/plain": [
              "<Figure size 432x288 with 1 Axes>"
            ],
            "image/png": "[encoded data removed]"
          },
          "metadata": {
            "needs_background": "light"
          }
        }
      ]
    },
    {
      "cell_type": "markdown",
      "metadata": {
        "id": "002a4242-3d28-458e-bcfc-cf7cc89e5042"
      },
      "source": [
        "### **Discrete** - *Continuous* pairs"
      ],
      "id": "002a4242-3d28-458e-bcfc-cf7cc89e5042"
    },
    {
      "cell_type": "code",
      "metadata": {
        "id": "ed60c7dd-823a-4db5-9da0-18c288f229e6",
        "colab": {
          "base_uri": "https://localhost:8080/",
          "height": 297
        },
        "outputId": "fd4652d1-07ea-43d2-c815-ce6c6d6d166d"
      },
      "source": [
        "sns.boxplot(\n",
        "    data=metabolites,\n",
        "    y='Age',\n",
        "    x='Group'\n",
        ")"
      ],
      "id": "ed60c7dd-823a-4db5-9da0-18c288f229e6",
      "execution_count": null,
      "outputs": [
        {
          "output_type": "execute_result",
          "data": {
            "text/plain": [
              "<matplotlib.axes._subplots.AxesSubplot at 0x7fe397e8a190>"
            ]
          },
          "metadata": {},
          "execution_count": 83
        },
        {
          "output_type": "display_data",
          "data": {
            "text/plain": [
              "<Figure size 432x288 with 1 Axes>"
            ],
            "image/png": "[encoded data removed]"
          },
          "metadata": {
            "needs_background": "light"
          }
        }
      ]
    },
    {
      "cell_type": "code",
      "metadata": {
        "id": "56ef6847-2332-4be8-8abd-e3abb27797c9",
        "colab": {
          "base_uri": "https://localhost:8080/",
          "height": 296
        },
        "outputId": "da579820-401a-4408-ea92-c3e1211be16b"
      },
      "source": [
        "sns.boxplot(\n",
        "    data=metabolites,\n",
        "    y='Alcohol',\n",
        "    x='Gender'\n",
        ")"
      ],
      "id": "56ef6847-2332-4be8-8abd-e3abb27797c9",
      "execution_count": null,
      "outputs": [
        {
          "output_type": "execute_result",
          "data": {
            "text/plain": [
              "<matplotlib.axes._subplots.AxesSubplot at 0x7fe398128b80>"
            ]
          },
          "metadata": {},
          "execution_count": 84
        },
        {
          "output_type": "display_data",
          "data": {
            "text/plain": [
              "<Figure size 432x288 with 1 Axes>"
            ],
            "image/png": "[encoded data removed]"
          },
          "metadata": {
            "needs_background": "light"
          }
        }
      ]
    },
    {
      "cell_type": "code",
      "metadata": {
        "id": "0f64277f-cdb6-4efb-af9d-e116d28ce333",
        "colab": {
          "base_uri": "https://localhost:8080/",
          "height": 297
        },
        "outputId": "31e62938-69ad-46c2-cb43-9d60d8e6f70c"
      },
      "source": [
        "sns.boxplot(\n",
        "    data=metabolites,\n",
        "    y='Age',\n",
        "    x='Group',\n",
        "    hue='Gender'\n",
        ")"
      ],
      "id": "0f64277f-cdb6-4efb-af9d-e116d28ce333",
      "execution_count": null,
      "outputs": [
        {
          "output_type": "execute_result",
          "data": {
            "text/plain": [
              "<matplotlib.axes._subplots.AxesSubplot at 0x7fe3983e8790>"
            ]
          },
          "metadata": {},
          "execution_count": 85
        },
        {
          "output_type": "display_data",
          "data": {
            "text/plain": [
              "<Figure size 432x288 with 1 Axes>"
            ],
            "image/png": "[encoded data removed]"
          },
          "metadata": {
            "needs_background": "light"
          }
        }
      ]
    },
    {
      "cell_type": "markdown",
      "metadata": {
        "id": "f1872670-3053-4cc2-ba28-7edc16c428db"
      },
      "source": [
        "### *Continuous* - *Continuous* pairs"
      ],
      "id": "f1872670-3053-4cc2-ba28-7edc16c428db"
    },
    {
      "cell_type": "code",
      "metadata": {
        "id": "7b192233-ff3b-4d1a-a7ea-4736b1abacd1",
        "colab": {
          "base_uri": "https://localhost:8080/",
          "height": 296
        },
        "outputId": "5898b954-c717-457a-d826-9977372dfd66"
      },
      "source": [
        "metabolites.plot(kind='scatter', x='Brinkman Index', y='Alcohol')"
      ],
      "id": "7b192233-ff3b-4d1a-a7ea-4736b1abacd1",
      "execution_count": null,
      "outputs": [
        {
          "output_type": "execute_result",
          "data": {
            "text/plain": [
              "<matplotlib.axes._subplots.AxesSubplot at 0x7fe397f9ca90>"
            ]
          },
          "metadata": {},
          "execution_count": 86
        },
        {
          "output_type": "display_data",
          "data": {
            "text/plain": [
              "<Figure size 432x288 with 1 Axes>"
            ],
            "image/png": "[encoded data removed]"
          },
          "metadata": {
            "needs_background": "light"
          }
        }
      ]
    },
    {
      "cell_type": "code",
      "metadata": {
        "id": "e2583ae5-5493-4559-9ec0-17776e22e35f",
        "colab": {
          "base_uri": "https://localhost:8080/",
          "height": 296
        },
        "outputId": "1e9749da-dacb-4c71-dbac-9a7b4097d67b"
      },
      "source": [
        "sns.scatterplot(\n",
        "    data=metabolites, \n",
        "    x='Brinkman Index', \n",
        "    y='Alcohol', \n",
        "    hue='Gender'\n",
        ")"
      ],
      "id": "e2583ae5-5493-4559-9ec0-17776e22e35f",
      "execution_count": null,
      "outputs": [
        {
          "output_type": "execute_result",
          "data": {
            "text/plain": [
              "<matplotlib.axes._subplots.AxesSubplot at 0x7fe397df8d30>"
            ]
          },
          "metadata": {},
          "execution_count": 88
        },
        {
          "output_type": "display_data",
          "data": {
            "text/plain": [
              "<Figure size 432x288 with 1 Axes>"
            ],
            "image/png": "[encoded data removed]"
          },
          "metadata": {
            "needs_background": "light"
          }
        }
      ]
    },
    {
      "cell_type": "markdown",
      "metadata": {
        "id": "be24f246-a91f-46b0-a29d-8e6d147c46b9"
      },
      "source": [
        "## $\\color{purple}{\\text{Exercise 2}}$\n",
        "\n",
        "Plot following:\n",
        "\n",
        "1. Countplot of `Tumor location` grouped by `Group` \n",
        "2. Boxplot with `BMI` grouped by `Gender`\n",
        "3. Scatterplot `BMI` vs. `Age` grouped by `Gender`\n",
        "4. Scatterplot of `C00581_Guanidinoacetate` and `3-Indoxyl sulfate` colored by `Gender`. Try using `sns.jointplot` instead of `sns.scatterplot` to add variable marginal distributions* \n",
        "\n",
        "Can we say more about the data with these plots?\n",
        "\n",
        "[5 min]"
      ],
      "id": "be24f246-a91f-46b0-a29d-8e6d147c46b9"
    },
    {
      "cell_type": "code",
      "source": [
        "# Your code goes here"
      ],
      "metadata": {
        "id": "aKf5J4fytwdu"
      },
      "id": "aKf5J4fytwdu",
      "execution_count": null,
      "outputs": []
    },
    {
      "cell_type": "markdown",
      "metadata": {
        "id": "e4d94b02-ed02-4415-9910-e412528f352c"
      },
      "source": [
        "# Multivariate Analysis with **Machine Learning**\n",
        "\n",
        "**The real problem:** how to find interesting relations between all metabolies & an outcome variable (e.g. Healthy vs. Disease)\n",
        "\n",
        "\n",
        "**Use case:** Find metabolites that differentiate people with late-stage CRC (3 or 4 stage) from the healthy control group. Those metabolites can lead to novel biomarkers or therapeutics.\n"
      ],
      "id": "e4d94b02-ed02-4415-9910-e412528f352c"
    },
    {
      "cell_type": "markdown",
      "metadata": {
        "id": "88da106f-5eb3-4d4b-84d8-e8ba3721d32e"
      },
      "source": [
        "## Prepare input data"
      ],
      "id": "88da106f-5eb3-4d4b-84d8-e8ba3721d32e"
    },
    {
      "cell_type": "markdown",
      "metadata": {
        "id": "31b52ef6-c97e-48c3-a3a0-2d8334741d41"
      },
      "source": [
        "Filter out samples that are not from `Healthy` nor `Stage_III_IV` groups."
      ],
      "id": "31b52ef6-c97e-48c3-a3a0-2d8334741d41"
    },
    {
      "cell_type": "code",
      "metadata": {
        "id": "39fd49ba-815b-49b5-80eb-c411dca95f1c",
        "colab": {
          "base_uri": "https://localhost:8080/"
        },
        "outputId": "576af735-65f7-41d1-cf42-600dc83ad947"
      },
      "source": [
        "is_in_34_or_healthy = metabolites['Group'].isin(['Healthy', 'Stage_III_IV'])\n",
        "is_in_34_or_healthy"
      ],
      "id": "39fd49ba-815b-49b5-80eb-c411dca95f1c",
      "execution_count": null,
      "outputs": [
        {
          "output_type": "execute_result",
          "data": {
            "text/plain": [
              "Sample ID\n",
              "10023     True\n",
              "10025     True\n",
              "10029     True\n",
              "10031     True\n",
              "10036     True\n",
              "         ...  \n",
              "10313    False\n",
              "10329    False\n",
              "10368    False\n",
              "10374    False\n",
              "10444    False\n",
              "Name: Group, Length: 406, dtype: bool"
            ]
          },
          "metadata": {},
          "execution_count": 89
        }
      ]
    },
    {
      "cell_type": "markdown",
      "metadata": {
        "id": "1dc70b67-23a4-43ee-a8b9-da79442200f4"
      },
      "source": [
        "Standard ML notation:\n",
        "  \n",
        "*X - features* <br>\n",
        "*y - target*"
      ],
      "id": "1dc70b67-23a4-43ee-a8b9-da79442200f4"
    },
    {
      "cell_type": "code",
      "metadata": {
        "id": "63eb40f3-fb03-45fb-a42e-50eafe91e0a4",
        "colab": {
          "base_uri": "https://localhost:8080/",
          "height": 383
        },
        "outputId": "348cd483-cb4c-4fcc-9ad6-f39a97679eb4"
      },
      "source": [
        "X = metabolites[is_in_34_or_healthy].iloc[:, 8:]\n",
        "X.head()"
      ],
      "id": "63eb40f3-fb03-45fb-a42e-50eafe91e0a4",
      "execution_count": null,
      "outputs": [
        {
          "output_type": "execute_result",
          "data": {
            "text/plain": [
              "           C00024_Acetyl CoA  C01996_Acetylcholine  C00147_Adenine  \\\n",
              "Sample ID                                                            \n",
              "10023               0.000000              1.036026        2.601960   \n",
              "10025               4.501771              0.457927        2.572170   \n",
              "10029               0.000000             -0.128546        3.327181   \n",
              "10031               3.646184              0.259788        2.872246   \n",
              "10036               0.000000              1.296258        2.849623   \n",
              "\n",
              "           C00212_Adenosine  C00054_Adenosine 3',5'-diphosphate  \\\n",
              "Sample ID                                                         \n",
              "10023              3.945036                                 0.0   \n",
              "10025              4.330759                                 0.0   \n",
              "10029              3.752937                                 0.0   \n",
              "10031              3.592089                                 0.0   \n",
              "10036              3.015126                                 0.0   \n",
              "\n",
              "           C00224_Adenosine 5'-phosphosulfate  C06104_Adipate  C03626_ADMA  \\\n",
              "Sample ID                                                                    \n",
              "10023                                     0.0        5.316991     3.634511   \n",
              "10025                                     0.0        5.368703     3.733458   \n",
              "10029                                     0.0        6.251517     2.217650   \n",
              "10031                                     0.0        5.543576     3.865045   \n",
              "10036                                     0.0        0.000000     2.369720   \n",
              "\n",
              "           C00008_ADP  C00498_ADP-glucose  ...  \\\n",
              "Sample ID                                  ...   \n",
              "10023        0.000000                 0.0  ...   \n",
              "10025        3.698429                 0.0  ...   \n",
              "10029        0.000000                 0.0  ...   \n",
              "10031        3.457408                 0.0  ...   \n",
              "10036        0.000000                 0.0  ...   \n",
              "\n",
              "           C00440_5-Methyltetrahydrofolate  C00170_5-Methylthioadenosine  \\\n",
              "Sample ID                                                                  \n",
              "10023                             3.000730                      3.196043   \n",
              "10025                             2.772158                      3.229917   \n",
              "10029                             0.000000                      2.346616   \n",
              "10031                             2.535716                      3.120999   \n",
              "10036                             3.716767                      2.271742   \n",
              "\n",
              "           C01879_5-Oxoproline  C02378_6-Aminohexanoate  \\\n",
              "Sample ID                                                 \n",
              "10023                 4.321721                 0.000000   \n",
              "10025                 5.143740                 0.000000   \n",
              "10029                 5.392691                 2.511281   \n",
              "10031                 4.679146                 0.000000   \n",
              "10036                 4.723737                 0.000000   \n",
              "\n",
              "           C06103_6-Hydroxyhexanoate  C01020_6-Hydroxynicotinate  \\\n",
              "Sample ID                                                          \n",
              "10023                            0.0                         0.0   \n",
              "10025                            0.0                         0.0   \n",
              "10029                            0.0                         0.0   \n",
              "10031                            0.0                         0.0   \n",
              "10036                            0.0                         0.0   \n",
              "\n",
              "           C08434_6-Methylaminopurine  C02953_7,8-Dihydrobiopterin  \\\n",
              "Sample ID                                                            \n",
              "10023                             0.0                     1.290214   \n",
              "10025                             0.0                     2.751319   \n",
              "10029                             0.0                     0.000000   \n",
              "10031                             0.0                     3.267578   \n",
              "10036                             0.0                     0.000000   \n",
              "\n",
              "           C04874_7,8-Dihydroneopterin  C02242_7-Methylguanine  \n",
              "Sample ID                                                       \n",
              "10023                          0.00000                4.452146  \n",
              "10025                          0.00000                4.411868  \n",
              "10029                          2.82316                4.442370  \n",
              "10031                          0.00000                4.385342  \n",
              "10036                          0.00000                3.823966  \n",
              "\n",
              "[5 rows x 450 columns]"
            ],
            "text/html": [
              "\n",
              "  <div id=\"df-ee2737dc-f880-493b-b4ef-9b43e819a54b\">\n",
              "    <div class=\"colab-df-container\">\n",
              "      <div>\n",
              "<style scoped>\n",
              "    .dataframe tbody tr th:only-of-type {\n",
              "        vertical-align: middle;\n",
              "    }\n",
              "\n",
              "    .dataframe tbody tr th {\n",
              "        vertical-align: top;\n",
              "    }\n",
              "\n",
              "    .dataframe thead th {\n",
              "        text-align: right;\n",
              "    }\n",
              "</style>\n",
              "<table border=\"1\" class=\"dataframe\">\n",
              "  <thead>\n",
              "    <tr style=\"text-align: right;\">\n",
              "      <th></th>\n",
              "      <th>C00024_Acetyl CoA</th>\n",
              "      <th>C01996_Acetylcholine</th>\n",
              "      <th>C00147_Adenine</th>\n",
              "      <th>C00212_Adenosine</th>\n",
              "      <th>C00054_Adenosine 3',5'-diphosphate</th>\n",
              "      <th>C00224_Adenosine 5'-phosphosulfate</th>\n",
              "      <th>C06104_Adipate</th>\n",
              "      <th>C03626_ADMA</th>\n",
              "      <th>C00008_ADP</th>\n",
              "      <th>C00498_ADP-glucose</th>\n",
              "      <th>...</th>\n",
              "      <th>C00440_5-Methyltetrahydrofolate</th>\n",
              "      <th>C00170_5-Methylthioadenosine</th>\n",
              "      <th>C01879_5-Oxoproline</th>\n",
              "      <th>C02378_6-Aminohexanoate</th>\n",
              "      <th>C06103_6-Hydroxyhexanoate</th>\n",
              "      <th>C01020_6-Hydroxynicotinate</th>\n",
              "      <th>C08434_6-Methylaminopurine</th>\n",
              "      <th>C02953_7,8-Dihydrobiopterin</th>\n",
              "      <th>C04874_7,8-Dihydroneopterin</th>\n",
              "      <th>C02242_7-Methylguanine</th>\n",
              "    </tr>\n",
              "    <tr>\n",
              "      <th>Sample ID</th>\n",
              "      <th></th>\n",
              "      <th></th>\n",
              "      <th></th>\n",
              "      <th></th>\n",
              "      <th></th>\n",
              "      <th></th>\n",
              "      <th></th>\n",
              "      <th></th>\n",
              "      <th></th>\n",
              "      <th></th>\n",
              "      <th></th>\n",
              "      <th></th>\n",
              "      <th></th>\n",
              "      <th></th>\n",
              "      <th></th>\n",
              "      <th></th>\n",
              "      <th></th>\n",
              "      <th></th>\n",
              "      <th></th>\n",
              "      <th></th>\n",
              "      <th></th>\n",
              "    </tr>\n",
              "  </thead>\n",
              "  <tbody>\n",
              "    <tr>\n",
              "      <th>10023</th>\n",
              "      <td>0.000000</td>\n",
              "      <td>1.036026</td>\n",
              "      <td>2.601960</td>\n",
              "      <td>3.945036</td>\n",
              "      <td>0.0</td>\n",
              "      <td>0.0</td>\n",
              "      <td>5.316991</td>\n",
              "      <td>3.634511</td>\n",
              "      <td>0.000000</td>\n",
              "      <td>0.0</td>\n",
              "      <td>...</td>\n",
              "      <td>3.000730</td>\n",
              "      <td>3.196043</td>\n",
              "      <td>4.321721</td>\n",
              "      <td>0.000000</td>\n",
              "      <td>0.0</td>\n",
              "      <td>0.0</td>\n",
              "      <td>0.0</td>\n",
              "      <td>1.290214</td>\n",
              "      <td>0.00000</td>\n",
              "      <td>4.452146</td>\n",
              "    </tr>\n",
              "    <tr>\n",
              "      <th>10025</th>\n",
              "      <td>4.501771</td>\n",
              "      <td>0.457927</td>\n",
              "      <td>2.572170</td>\n",
              "      <td>4.330759</td>\n",
              "      <td>0.0</td>\n",
              "      <td>0.0</td>\n",
              "      <td>5.368703</td>\n",
              "      <td>3.733458</td>\n",
              "      <td>3.698429</td>\n",
              "      <td>0.0</td>\n",
              "      <td>...</td>\n",
              "      <td>2.772158</td>\n",
              "      <td>3.229917</td>\n",
              "      <td>5.143740</td>\n",
              "      <td>0.000000</td>\n",
              "      <td>0.0</td>\n",
              "      <td>0.0</td>\n",
              "      <td>0.0</td>\n",
              "      <td>2.751319</td>\n",
              "      <td>0.00000</td>\n",
              "      <td>4.411868</td>\n",
              "    </tr>\n",
              "    <tr>\n",
              "      <th>10029</th>\n",
              "      <td>0.000000</td>\n",
              "      <td>-0.128546</td>\n",
              "      <td>3.327181</td>\n",
              "      <td>3.752937</td>\n",
              "      <td>0.0</td>\n",
              "      <td>0.0</td>\n",
              "      <td>6.251517</td>\n",
              "      <td>2.217650</td>\n",
              "      <td>0.000000</td>\n",
              "      <td>0.0</td>\n",
              "      <td>...</td>\n",
              "      <td>0.000000</td>\n",
              "      <td>2.346616</td>\n",
              "      <td>5.392691</td>\n",
              "      <td>2.511281</td>\n",
              "      <td>0.0</td>\n",
              "      <td>0.0</td>\n",
              "      <td>0.0</td>\n",
              "      <td>0.000000</td>\n",
              "      <td>2.82316</td>\n",
              "      <td>4.442370</td>\n",
              "    </tr>\n",
              "    <tr>\n",
              "      <th>10031</th>\n",
              "      <td>3.646184</td>\n",
              "      <td>0.259788</td>\n",
              "      <td>2.872246</td>\n",
              "      <td>3.592089</td>\n",
              "      <td>0.0</td>\n",
              "      <td>0.0</td>\n",
              "      <td>5.543576</td>\n",
              "      <td>3.865045</td>\n",
              "      <td>3.457408</td>\n",
              "      <td>0.0</td>\n",
              "      <td>...</td>\n",
              "      <td>2.535716</td>\n",
              "      <td>3.120999</td>\n",
              "      <td>4.679146</td>\n",
              "      <td>0.000000</td>\n",
              "      <td>0.0</td>\n",
              "      <td>0.0</td>\n",
              "      <td>0.0</td>\n",
              "      <td>3.267578</td>\n",
              "      <td>0.00000</td>\n",
              "      <td>4.385342</td>\n",
              "    </tr>\n",
              "    <tr>\n",
              "      <th>10036</th>\n",
              "      <td>0.000000</td>\n",
              "      <td>1.296258</td>\n",
              "      <td>2.849623</td>\n",
              "      <td>3.015126</td>\n",
              "      <td>0.0</td>\n",
              "      <td>0.0</td>\n",
              "      <td>0.000000</td>\n",
              "      <td>2.369720</td>\n",
              "      <td>0.000000</td>\n",
              "      <td>0.0</td>\n",
              "      <td>...</td>\n",
              "      <td>3.716767</td>\n",
              "      <td>2.271742</td>\n",
              "      <td>4.723737</td>\n",
              "      <td>0.000000</td>\n",
              "      <td>0.0</td>\n",
              "      <td>0.0</td>\n",
              "      <td>0.0</td>\n",
              "      <td>0.000000</td>\n",
              "      <td>0.00000</td>\n",
              "      <td>3.823966</td>\n",
              "    </tr>\n",
              "  </tbody>\n",
              "</table>\n",
              "<p>5 rows × 450 columns</p>\n",
              "</div>\n",
              "      <button class=\"colab-df-convert\" onclick=\"convertToInteractive('df-ee2737dc-f880-493b-b4ef-9b43e819a54b')\"\n",
              "              title=\"Convert this dataframe to an interactive table.\"\n",
              "              style=\"display:none;\">\n",
              "        \n",
              "  <svg xmlns=\"http://www.w3.org/2000/svg\" height=\"24px\"viewBox=\"0 0 24 24\"\n",
              "       width=\"24px\">\n",
              "    <path d=\"M0 0h24v24H0V0z\" fill=\"none\"/>\n",
              "    <path d=\"M18.56 5.44l.94 2.06.94-2.06 2.06-.94-2.06-.94-.94-2.06-.94 2.06-2.06.94zm-11 1L8.5 8.5l.94-2.06 2.06-.94-2.06-.94L8.5 2.5l-.94 2.06-2.06.94zm10 10l.94 2.06.94-2.06 2.06-.94-2.06-.94-.94-2.06-.94 2.06-2.06.94z\"/><path d=\"M17.41 7.96l-1.37-1.37c-.4-.4-.92-.59-1.43-.59-.52 0-1.04.2-1.43.59L10.3 9.45l-7.72 7.72c-.78.78-.78 2.05 0 2.83L4 21.41c.39.39.9.59 1.41.59.51 0 1.02-.2 1.41-.59l7.78-7.78 2.81-2.81c.8-.78.8-2.07 0-2.86zM5.41 20L4 18.59l7.72-7.72 1.47 1.35L5.41 20z\"/>\n",
              "  </svg>\n",
              "      </button>\n",
              "      \n",
              "  <style>\n",
              "    .colab-df-container {\n",
              "      display:flex;\n",
              "      flex-wrap:wrap;\n",
              "      gap: 12px;\n",
              "    }\n",
              "\n",
              "    .colab-df-convert {\n",
              "      background-color: #E8F0FE;\n",
              "      border: none;\n",
              "      border-radius: 50%;\n",
              "      cursor: pointer;\n",
              "      display: none;\n",
              "      fill: #1967D2;\n",
              "      height: 32px;\n",
              "      padding: 0 0 0 0;\n",
              "      width: 32px;\n",
              "    }\n",
              "\n",
              "    .colab-df-convert:hover {\n",
              "      background-color: #E2EBFA;\n",
              "      box-shadow: 0px 1px 2px rgba(60, 64, 67, 0.3), 0px 1px 3px 1px rgba(60, 64, 67, 0.15);\n",
              "      fill: #174EA6;\n",
              "    }\n",
              "\n",
              "    [theme=dark] .colab-df-convert {\n",
              "      background-color: #3B4455;\n",
              "      fill: #D2E3FC;\n",
              "    }\n",
              "\n",
              "    [theme=dark] .colab-df-convert:hover {\n",
              "      background-color: #434B5C;\n",
              "      box-shadow: 0px 1px 3px 1px rgba(0, 0, 0, 0.15);\n",
              "      filter: drop-shadow(0px 1px 2px rgba(0, 0, 0, 0.3));\n",
              "      fill: #FFFFFF;\n",
              "    }\n",
              "  </style>\n",
              "\n",
              "      <script>\n",
              "        const buttonEl =\n",
              "          document.querySelector('#df-ee2737dc-f880-493b-b4ef-9b43e819a54b button.colab-df-convert');\n",
              "        buttonEl.style.display =\n",
              "          google.colab.kernel.accessAllowed ? 'block' : 'none';\n",
              "\n",
              "        async function convertToInteractive(key) {\n",
              "          const element = document.querySelector('#df-ee2737dc-f880-493b-b4ef-9b43e819a54b');\n",
              "          const dataTable =\n",
              "            await google.colab.kernel.invokeFunction('convertToInteractive',\n",
              "                                                     [key], {});\n",
              "          if (!dataTable) return;\n",
              "\n",
              "          const docLinkHtml = 'Like what you see? Visit the ' +\n",
              "            '<a target=\"_blank\" href=https://colab.research.google.com/notebooks/data_table.ipynb>data table notebook</a>'\n",
              "            + ' to learn more about interactive tables.';\n",
              "          element.innerHTML = '';\n",
              "          dataTable['output_type'] = 'display_data';\n",
              "          await google.colab.output.renderOutput(dataTable, element);\n",
              "          const docLink = document.createElement('div');\n",
              "          docLink.innerHTML = docLinkHtml;\n",
              "          element.appendChild(docLink);\n",
              "        }\n",
              "      </script>\n",
              "    </div>\n",
              "  </div>\n",
              "  "
            ]
          },
          "metadata": {},
          "execution_count": 90
        }
      ]
    },
    {
      "cell_type": "code",
      "metadata": {
        "id": "801b7f91-6a04-4968-b5ac-0aba4ecd584a",
        "colab": {
          "base_uri": "https://localhost:8080/"
        },
        "outputId": "b304b9ca-ae1e-4418-feb1-a4e231888b6a"
      },
      "source": [
        "y = metabolites[is_in_34_or_healthy]['Group']\n",
        "y.head()"
      ],
      "id": "801b7f91-6a04-4968-b5ac-0aba4ecd584a",
      "execution_count": null,
      "outputs": [
        {
          "output_type": "execute_result",
          "data": {
            "text/plain": [
              "Sample ID\n",
              "10023    Healthy\n",
              "10025    Healthy\n",
              "10029    Healthy\n",
              "10031    Healthy\n",
              "10036    Healthy\n",
              "Name: Group, dtype: object"
            ]
          },
          "metadata": {},
          "execution_count": 91
        }
      ]
    },
    {
      "cell_type": "code",
      "metadata": {
        "id": "08bd7924-6cf0-46f3-8fd1-c4258876f635",
        "colab": {
          "base_uri": "https://localhost:8080/"
        },
        "outputId": "839f1fa1-d811-4126-97aa-16e6c5d4bc44"
      },
      "source": [
        "y.value_counts()"
      ],
      "id": "08bd7924-6cf0-46f3-8fd1-c4258876f635",
      "execution_count": null,
      "outputs": [
        {
          "output_type": "execute_result",
          "data": {
            "text/plain": [
              "Healthy         149\n",
              "Stage_III_IV     68\n",
              "Name: Group, dtype: int64"
            ]
          },
          "metadata": {},
          "execution_count": 92
        }
      ]
    },
    {
      "cell_type": "markdown",
      "metadata": {
        "id": "6fe0edf0-2d33-4089-91b9-4e977bb53cb6"
      },
      "source": [
        "## Single train-test split"
      ],
      "id": "6fe0edf0-2d33-4089-91b9-4e977bb53cb6"
    },
    {
      "cell_type": "markdown",
      "metadata": {
        "id": "e12ad1bd-620c-49f4-a16c-b61c2921e774"
      },
      "source": [
        "Split X & y to train-test subsets"
      ],
      "id": "e12ad1bd-620c-49f4-a16c-b61c2921e774"
    },
    {
      "cell_type": "code",
      "metadata": {
        "id": "d6b61045-ff3b-4f66-8cf6-2a857b7a7ca9"
      },
      "source": [
        "from sklearn.model_selection import train_test_split\n",
        "X_train, X_test, y_train, y_test = train_test_split(X, y, test_size=0.2, random_state=1)"
      ],
      "id": "d6b61045-ff3b-4f66-8cf6-2a857b7a7ca9",
      "execution_count": null,
      "outputs": []
    },
    {
      "cell_type": "code",
      "metadata": {
        "colab": {
          "base_uri": "https://localhost:8080/",
          "height": 571
        },
        "id": "P0Epw9aqcYlT",
        "outputId": "b3600b62-bac5-436a-ae66-b4e68650ba03"
      },
      "source": [
        "X_train"
      ],
      "id": "P0Epw9aqcYlT",
      "execution_count": null,
      "outputs": [
        {
          "output_type": "execute_result",
          "data": {
            "text/plain": [
              "           C00024_Acetyl CoA  C01996_Acetylcholine  C00147_Adenine  \\\n",
              "Sample ID                                                            \n",
              "10621               4.674099             -0.461788        1.859031   \n",
              "10258               3.031209              0.364080        2.269127   \n",
              "10169               2.422207              0.000000        2.967346   \n",
              "10317               4.788659              0.000000        3.334319   \n",
              "10229               0.000000              0.639034        0.489832   \n",
              "...                      ...                   ...             ...   \n",
              "10715               0.000000             -0.437440        3.984239   \n",
              "10776               0.000000              0.560965        3.649770   \n",
              "10357               0.000000              0.000000        2.409687   \n",
              "10801               0.000000              0.000000        0.000000   \n",
              "10221               3.212800              0.000000        2.303791   \n",
              "\n",
              "           C00212_Adenosine  C00054_Adenosine 3',5'-diphosphate  \\\n",
              "Sample ID                                                         \n",
              "10621              2.513915                                 0.0   \n",
              "10258              3.830884                                 0.0   \n",
              "10169              4.569485                                 0.0   \n",
              "10317              4.119040                                 0.0   \n",
              "10229              5.622337                                 0.0   \n",
              "...                     ...                                 ...   \n",
              "10715              4.660690                                 0.0   \n",
              "10776              4.805639                                 0.0   \n",
              "10357              3.756360                                 0.0   \n",
              "10801              3.547181                                 0.0   \n",
              "10221              3.592845                                 0.0   \n",
              "\n",
              "           C00224_Adenosine 5'-phosphosulfate  C06104_Adipate  C03626_ADMA  \\\n",
              "Sample ID                                                                    \n",
              "10621                                     0.0        6.516163     3.571042   \n",
              "10258                                     0.0        5.595668     2.837045   \n",
              "10169                                     0.0        5.954050     2.182675   \n",
              "10317                                     0.0        7.392015     3.208555   \n",
              "10229                                     0.0        0.000000     3.102022   \n",
              "...                                       ...             ...          ...   \n",
              "10715                                     0.0        5.761723     3.716226   \n",
              "10776                                     0.0        5.047770     3.181448   \n",
              "10357                                     0.0        0.000000     0.000000   \n",
              "10801                                     0.0        0.000000     3.050686   \n",
              "10221                                     0.0        6.788094     0.000000   \n",
              "\n",
              "           C00008_ADP  C00498_ADP-glucose  ...  \\\n",
              "Sample ID                                  ...   \n",
              "10621        5.107516                 0.0  ...   \n",
              "10258        0.000000                 0.0  ...   \n",
              "10169        2.330699                 0.0  ...   \n",
              "10317        4.323332                 0.0  ...   \n",
              "10229        0.000000                 0.0  ...   \n",
              "...               ...                 ...  ...   \n",
              "10715        0.000000                 0.0  ...   \n",
              "10776        0.000000                 0.0  ...   \n",
              "10357        0.000000                 0.0  ...   \n",
              "10801        3.478037                 0.0  ...   \n",
              "10221        2.816748                 0.0  ...   \n",
              "\n",
              "           C00440_5-Methyltetrahydrofolate  C00170_5-Methylthioadenosine  \\\n",
              "Sample ID                                                                  \n",
              "10621                             0.000000                      2.282783   \n",
              "10258                             4.017237                      2.716681   \n",
              "10169                             0.000000                      2.367165   \n",
              "10317                             3.016561                      2.786176   \n",
              "10229                             2.766145                      2.106795   \n",
              "...                                    ...                           ...   \n",
              "10715                             0.000000                      2.201821   \n",
              "10776                             3.152363                      2.698751   \n",
              "10357                             0.000000                      1.977156   \n",
              "10801                             4.084393                      1.270482   \n",
              "10221                             0.000000                      1.630921   \n",
              "\n",
              "           C01879_5-Oxoproline  C02378_6-Aminohexanoate  \\\n",
              "Sample ID                                                 \n",
              "10621                 0.000000                 0.000000   \n",
              "10258                 4.145312                 0.000000   \n",
              "10169                 4.758534                 0.000000   \n",
              "10317                 4.290061                 0.000000   \n",
              "10229                 4.804569                 0.000000   \n",
              "...                        ...                      ...   \n",
              "10715                 0.000000                 0.000000   \n",
              "10776                 5.109256                 3.740723   \n",
              "10357                 4.134333                 0.000000   \n",
              "10801                 4.928177                 0.000000   \n",
              "10221                 5.171923                 0.000000   \n",
              "\n",
              "           C06103_6-Hydroxyhexanoate  C01020_6-Hydroxynicotinate  \\\n",
              "Sample ID                                                          \n",
              "10621                       0.000000                    3.893171   \n",
              "10258                       0.000000                    0.000000   \n",
              "10169                       4.511856                    0.000000   \n",
              "10317                       0.000000                    0.000000   \n",
              "10229                       0.000000                    0.000000   \n",
              "...                              ...                         ...   \n",
              "10715                       0.000000                    0.000000   \n",
              "10776                       0.000000                    0.000000   \n",
              "10357                       0.000000                    0.000000   \n",
              "10801                       0.000000                    0.000000   \n",
              "10221                       6.738967                    0.000000   \n",
              "\n",
              "           C08434_6-Methylaminopurine  C02953_7,8-Dihydrobiopterin  \\\n",
              "Sample ID                                                            \n",
              "10621                             0.0                      0.00000   \n",
              "10258                             0.0                      0.00000   \n",
              "10169                             0.0                      0.00000   \n",
              "10317                             0.0                      0.00000   \n",
              "10229                             0.0                      0.00000   \n",
              "...                               ...                          ...   \n",
              "10715                             0.0                      0.00000   \n",
              "10776                             0.0                      0.00000   \n",
              "10357                             0.0                      0.00000   \n",
              "10801                             0.0                      2.58191   \n",
              "10221                             0.0                      0.00000   \n",
              "\n",
              "           C04874_7,8-Dihydroneopterin  C02242_7-Methylguanine  \n",
              "Sample ID                                                       \n",
              "10621                              0.0                3.410994  \n",
              "10258                              0.0                3.722200  \n",
              "10169                              0.0                3.233851  \n",
              "10317                              0.0                4.415230  \n",
              "10229                              0.0                3.202749  \n",
              "...                                ...                     ...  \n",
              "10715                              0.0                3.803483  \n",
              "10776                              0.0                4.283831  \n",
              "10357                              0.0                1.929779  \n",
              "10801                              0.0                3.767307  \n",
              "10221                              0.0                0.000000  \n",
              "\n",
              "[173 rows x 450 columns]"
            ],
            "text/html": [
              "\n",
              "  <div id=\"df-92cfbe98-6bd2-4737-a62b-9ddcfbbf6936\">\n",
              "    <div class=\"colab-df-container\">\n",
              "      <div>\n",
              "<style scoped>\n",
              "    .dataframe tbody tr th:only-of-type {\n",
              "        vertical-align: middle;\n",
              "    }\n",
              "\n",
              "    .dataframe tbody tr th {\n",
              "        vertical-align: top;\n",
              "    }\n",
              "\n",
              "    .dataframe thead th {\n",
              "        text-align: right;\n",
              "    }\n",
              "</style>\n",
              "<table border=\"1\" class=\"dataframe\">\n",
              "  <thead>\n",
              "    <tr style=\"text-align: right;\">\n",
              "      <th></th>\n",
              "      <th>C00024_Acetyl CoA</th>\n",
              "      <th>C01996_Acetylcholine</th>\n",
              "      <th>C00147_Adenine</th>\n",
              "      <th>C00212_Adenosine</th>\n",
              "      <th>C00054_Adenosine 3',5'-diphosphate</th>\n",
              "      <th>C00224_Adenosine 5'-phosphosulfate</th>\n",
              "      <th>C06104_Adipate</th>\n",
              "      <th>C03626_ADMA</th>\n",
              "      <th>C00008_ADP</th>\n",
              "      <th>C00498_ADP-glucose</th>\n",
              "      <th>...</th>\n",
              "      <th>C00440_5-Methyltetrahydrofolate</th>\n",
              "      <th>C00170_5-Methylthioadenosine</th>\n",
              "      <th>C01879_5-Oxoproline</th>\n",
              "      <th>C02378_6-Aminohexanoate</th>\n",
              "      <th>C06103_6-Hydroxyhexanoate</th>\n",
              "      <th>C01020_6-Hydroxynicotinate</th>\n",
              "      <th>C08434_6-Methylaminopurine</th>\n",
              "      <th>C02953_7,8-Dihydrobiopterin</th>\n",
              "      <th>C04874_7,8-Dihydroneopterin</th>\n",
              "      <th>C02242_7-Methylguanine</th>\n",
              "    </tr>\n",
              "    <tr>\n",
              "      <th>Sample ID</th>\n",
              "      <th></th>\n",
              "      <th></th>\n",
              "      <th></th>\n",
              "      <th></th>\n",
              "      <th></th>\n",
              "      <th></th>\n",
              "      <th></th>\n",
              "      <th></th>\n",
              "      <th></th>\n",
              "      <th></th>\n",
              "      <th></th>\n",
              "      <th></th>\n",
              "      <th></th>\n",
              "      <th></th>\n",
              "      <th></th>\n",
              "      <th></th>\n",
              "      <th></th>\n",
              "      <th></th>\n",
              "      <th></th>\n",
              "      <th></th>\n",
              "      <th></th>\n",
              "    </tr>\n",
              "  </thead>\n",
              "  <tbody>\n",
              "    <tr>\n",
              "      <th>10621</th>\n",
              "      <td>4.674099</td>\n",
              "      <td>-0.461788</td>\n",
              "      <td>1.859031</td>\n",
              "      <td>2.513915</td>\n",
              "      <td>0.0</td>\n",
              "      <td>0.0</td>\n",
              "      <td>6.516163</td>\n",
              "      <td>3.571042</td>\n",
              "      <td>5.107516</td>\n",
              "      <td>0.0</td>\n",
              "      <td>...</td>\n",
              "      <td>0.000000</td>\n",
              "      <td>2.282783</td>\n",
              "      <td>0.000000</td>\n",
              "      <td>0.000000</td>\n",
              "      <td>0.000000</td>\n",
              "      <td>3.893171</td>\n",
              "      <td>0.0</td>\n",
              "      <td>0.00000</td>\n",
              "      <td>0.0</td>\n",
              "      <td>3.410994</td>\n",
              "    </tr>\n",
              "    <tr>\n",
              "      <th>10258</th>\n",
              "      <td>3.031209</td>\n",
              "      <td>0.364080</td>\n",
              "      <td>2.269127</td>\n",
              "      <td>3.830884</td>\n",
              "      <td>0.0</td>\n",
              "      <td>0.0</td>\n",
              "      <td>5.595668</td>\n",
              "      <td>2.837045</td>\n",
              "      <td>0.000000</td>\n",
              "      <td>0.0</td>\n",
              "      <td>...</td>\n",
              "      <td>4.017237</td>\n",
              "      <td>2.716681</td>\n",
              "      <td>4.145312</td>\n",
              "      <td>0.000000</td>\n",
              "      <td>0.000000</td>\n",
              "      <td>0.000000</td>\n",
              "      <td>0.0</td>\n",
              "      <td>0.00000</td>\n",
              "      <td>0.0</td>\n",
              "      <td>3.722200</td>\n",
              "    </tr>\n",
              "    <tr>\n",
              "      <th>10169</th>\n",
              "      <td>2.422207</td>\n",
              "      <td>0.000000</td>\n",
              "      <td>2.967346</td>\n",
              "      <td>4.569485</td>\n",
              "      <td>0.0</td>\n",
              "      <td>0.0</td>\n",
              "      <td>5.954050</td>\n",
              "      <td>2.182675</td>\n",
              "      <td>2.330699</td>\n",
              "      <td>0.0</td>\n",
              "      <td>...</td>\n",
              "      <td>0.000000</td>\n",
              "      <td>2.367165</td>\n",
              "      <td>4.758534</td>\n",
              "      <td>0.000000</td>\n",
              "      <td>4.511856</td>\n",
              "      <td>0.000000</td>\n",
              "      <td>0.0</td>\n",
              "      <td>0.00000</td>\n",
              "      <td>0.0</td>\n",
              "      <td>3.233851</td>\n",
              "    </tr>\n",
              "    <tr>\n",
              "      <th>10317</th>\n",
              "      <td>4.788659</td>\n",
              "      <td>0.000000</td>\n",
              "      <td>3.334319</td>\n",
              "      <td>4.119040</td>\n",
              "      <td>0.0</td>\n",
              "      <td>0.0</td>\n",
              "      <td>7.392015</td>\n",
              "      <td>3.208555</td>\n",
              "      <td>4.323332</td>\n",
              "      <td>0.0</td>\n",
              "      <td>...</td>\n",
              "      <td>3.016561</td>\n",
              "      <td>2.786176</td>\n",
              "      <td>4.290061</td>\n",
              "      <td>0.000000</td>\n",
              "      <td>0.000000</td>\n",
              "      <td>0.000000</td>\n",
              "      <td>0.0</td>\n",
              "      <td>0.00000</td>\n",
              "      <td>0.0</td>\n",
              "      <td>4.415230</td>\n",
              "    </tr>\n",
              "    <tr>\n",
              "      <th>10229</th>\n",
              "      <td>0.000000</td>\n",
              "      <td>0.639034</td>\n",
              "      <td>0.489832</td>\n",
              "      <td>5.622337</td>\n",
              "      <td>0.0</td>\n",
              "      <td>0.0</td>\n",
              "      <td>0.000000</td>\n",
              "      <td>3.102022</td>\n",
              "      <td>0.000000</td>\n",
              "      <td>0.0</td>\n",
              "      <td>...</td>\n",
              "      <td>2.766145</td>\n",
              "      <td>2.106795</td>\n",
              "      <td>4.804569</td>\n",
              "      <td>0.000000</td>\n",
              "      <td>0.000000</td>\n",
              "      <td>0.000000</td>\n",
              "      <td>0.0</td>\n",
              "      <td>0.00000</td>\n",
              "      <td>0.0</td>\n",
              "      <td>3.202749</td>\n",
              "    </tr>\n",
              "    <tr>\n",
              "      <th>...</th>\n",
              "      <td>...</td>\n",
              "      <td>...</td>\n",
              "      <td>...</td>\n",
              "      <td>...</td>\n",
              "      <td>...</td>\n",
              "      <td>...</td>\n",
              "      <td>...</td>\n",
              "      <td>...</td>\n",
              "      <td>...</td>\n",
              "      <td>...</td>\n",
              "      <td>...</td>\n",
              "      <td>...</td>\n",
              "      <td>...</td>\n",
              "      <td>...</td>\n",
              "      <td>...</td>\n",
              "      <td>...</td>\n",
              "      <td>...</td>\n",
              "      <td>...</td>\n",
              "      <td>...</td>\n",
              "      <td>...</td>\n",
              "      <td>...</td>\n",
              "    </tr>\n",
              "    <tr>\n",
              "      <th>10715</th>\n",
              "      <td>0.000000</td>\n",
              "      <td>-0.437440</td>\n",
              "      <td>3.984239</td>\n",
              "      <td>4.660690</td>\n",
              "      <td>0.0</td>\n",
              "      <td>0.0</td>\n",
              "      <td>5.761723</td>\n",
              "      <td>3.716226</td>\n",
              "      <td>0.000000</td>\n",
              "      <td>0.0</td>\n",
              "      <td>...</td>\n",
              "      <td>0.000000</td>\n",
              "      <td>2.201821</td>\n",
              "      <td>0.000000</td>\n",
              "      <td>0.000000</td>\n",
              "      <td>0.000000</td>\n",
              "      <td>0.000000</td>\n",
              "      <td>0.0</td>\n",
              "      <td>0.00000</td>\n",
              "      <td>0.0</td>\n",
              "      <td>3.803483</td>\n",
              "    </tr>\n",
              "    <tr>\n",
              "      <th>10776</th>\n",
              "      <td>0.000000</td>\n",
              "      <td>0.560965</td>\n",
              "      <td>3.649770</td>\n",
              "      <td>4.805639</td>\n",
              "      <td>0.0</td>\n",
              "      <td>0.0</td>\n",
              "      <td>5.047770</td>\n",
              "      <td>3.181448</td>\n",
              "      <td>0.000000</td>\n",
              "      <td>0.0</td>\n",
              "      <td>...</td>\n",
              "      <td>3.152363</td>\n",
              "      <td>2.698751</td>\n",
              "      <td>5.109256</td>\n",
              "      <td>3.740723</td>\n",
              "      <td>0.000000</td>\n",
              "      <td>0.000000</td>\n",
              "      <td>0.0</td>\n",
              "      <td>0.00000</td>\n",
              "      <td>0.0</td>\n",
              "      <td>4.283831</td>\n",
              "    </tr>\n",
              "    <tr>\n",
              "      <th>10357</th>\n",
              "      <td>0.000000</td>\n",
              "      <td>0.000000</td>\n",
              "      <td>2.409687</td>\n",
              "      <td>3.756360</td>\n",
              "      <td>0.0</td>\n",
              "      <td>0.0</td>\n",
              "      <td>0.000000</td>\n",
              "      <td>0.000000</td>\n",
              "      <td>0.000000</td>\n",
              "      <td>0.0</td>\n",
              "      <td>...</td>\n",
              "      <td>0.000000</td>\n",
              "      <td>1.977156</td>\n",
              "      <td>4.134333</td>\n",
              "      <td>0.000000</td>\n",
              "      <td>0.000000</td>\n",
              "      <td>0.000000</td>\n",
              "      <td>0.0</td>\n",
              "      <td>0.00000</td>\n",
              "      <td>0.0</td>\n",
              "      <td>1.929779</td>\n",
              "    </tr>\n",
              "    <tr>\n",
              "      <th>10801</th>\n",
              "      <td>0.000000</td>\n",
              "      <td>0.000000</td>\n",
              "      <td>0.000000</td>\n",
              "      <td>3.547181</td>\n",
              "      <td>0.0</td>\n",
              "      <td>0.0</td>\n",
              "      <td>0.000000</td>\n",
              "      <td>3.050686</td>\n",
              "      <td>3.478037</td>\n",
              "      <td>0.0</td>\n",
              "      <td>...</td>\n",
              "      <td>4.084393</td>\n",
              "      <td>1.270482</td>\n",
              "      <td>4.928177</td>\n",
              "      <td>0.000000</td>\n",
              "      <td>0.000000</td>\n",
              "      <td>0.000000</td>\n",
              "      <td>0.0</td>\n",
              "      <td>2.58191</td>\n",
              "      <td>0.0</td>\n",
              "      <td>3.767307</td>\n",
              "    </tr>\n",
              "    <tr>\n",
              "      <th>10221</th>\n",
              "      <td>3.212800</td>\n",
              "      <td>0.000000</td>\n",
              "      <td>2.303791</td>\n",
              "      <td>3.592845</td>\n",
              "      <td>0.0</td>\n",
              "      <td>0.0</td>\n",
              "      <td>6.788094</td>\n",
              "      <td>0.000000</td>\n",
              "      <td>2.816748</td>\n",
              "      <td>0.0</td>\n",
              "      <td>...</td>\n",
              "      <td>0.000000</td>\n",
              "      <td>1.630921</td>\n",
              "      <td>5.171923</td>\n",
              "      <td>0.000000</td>\n",
              "      <td>6.738967</td>\n",
              "      <td>0.000000</td>\n",
              "      <td>0.0</td>\n",
              "      <td>0.00000</td>\n",
              "      <td>0.0</td>\n",
              "      <td>0.000000</td>\n",
              "    </tr>\n",
              "  </tbody>\n",
              "</table>\n",
              "<p>173 rows × 450 columns</p>\n",
              "</div>\n",
              "      <button class=\"colab-df-convert\" onclick=\"convertToInteractive('df-92cfbe98-6bd2-4737-a62b-9ddcfbbf6936')\"\n",
              "              title=\"Convert this dataframe to an interactive table.\"\n",
              "              style=\"display:none;\">\n",
              "        \n",
              "  <svg xmlns=\"http://www.w3.org/2000/svg\" height=\"24px\"viewBox=\"0 0 24 24\"\n",
              "       width=\"24px\">\n",
              "    <path d=\"M0 0h24v24H0V0z\" fill=\"none\"/>\n",
              "    <path d=\"M18.56 5.44l.94 2.06.94-2.06 2.06-.94-2.06-.94-.94-2.06-.94 2.06-2.06.94zm-11 1L8.5 8.5l.94-2.06 2.06-.94-2.06-.94L8.5 2.5l-.94 2.06-2.06.94zm10 10l.94 2.06.94-2.06 2.06-.94-2.06-.94-.94-2.06-.94 2.06-2.06.94z\"/><path d=\"M17.41 7.96l-1.37-1.37c-.4-.4-.92-.59-1.43-.59-.52 0-1.04.2-1.43.59L10.3 9.45l-7.72 7.72c-.78.78-.78 2.05 0 2.83L4 21.41c.39.39.9.59 1.41.59.51 0 1.02-.2 1.41-.59l7.78-7.78 2.81-2.81c.8-.78.8-2.07 0-2.86zM5.41 20L4 18.59l7.72-7.72 1.47 1.35L5.41 20z\"/>\n",
              "  </svg>\n",
              "      </button>\n",
              "      \n",
              "  <style>\n",
              "    .colab-df-container {\n",
              "      display:flex;\n",
              "      flex-wrap:wrap;\n",
              "      gap: 12px;\n",
              "    }\n",
              "\n",
              "    .colab-df-convert {\n",
              "      background-color: #E8F0FE;\n",
              "      border: none;\n",
              "      border-radius: 50%;\n",
              "      cursor: pointer;\n",
              "      display: none;\n",
              "      fill: #1967D2;\n",
              "      height: 32px;\n",
              "      padding: 0 0 0 0;\n",
              "      width: 32px;\n",
              "    }\n",
              "\n",
              "    .colab-df-convert:hover {\n",
              "      background-color: #E2EBFA;\n",
              "      box-shadow: 0px 1px 2px rgba(60, 64, 67, 0.3), 0px 1px 3px 1px rgba(60, 64, 67, 0.15);\n",
              "      fill: #174EA6;\n",
              "    }\n",
              "\n",
              "    [theme=dark] .colab-df-convert {\n",
              "      background-color: #3B4455;\n",
              "      fill: #D2E3FC;\n",
              "    }\n",
              "\n",
              "    [theme=dark] .colab-df-convert:hover {\n",
              "      background-color: #434B5C;\n",
              "      box-shadow: 0px 1px 3px 1px rgba(0, 0, 0, 0.15);\n",
              "      filter: drop-shadow(0px 1px 2px rgba(0, 0, 0, 0.3));\n",
              "      fill: #FFFFFF;\n",
              "    }\n",
              "  </style>\n",
              "\n",
              "      <script>\n",
              "        const buttonEl =\n",
              "          document.querySelector('#df-92cfbe98-6bd2-4737-a62b-9ddcfbbf6936 button.colab-df-convert');\n",
              "        buttonEl.style.display =\n",
              "          google.colab.kernel.accessAllowed ? 'block' : 'none';\n",
              "\n",
              "        async function convertToInteractive(key) {\n",
              "          const element = document.querySelector('#df-92cfbe98-6bd2-4737-a62b-9ddcfbbf6936');\n",
              "          const dataTable =\n",
              "            await google.colab.kernel.invokeFunction('convertToInteractive',\n",
              "                                                     [key], {});\n",
              "          if (!dataTable) return;\n",
              "\n",
              "          const docLinkHtml = 'Like what you see? Visit the ' +\n",
              "            '<a target=\"_blank\" href=https://colab.research.google.com/notebooks/data_table.ipynb>data table notebook</a>'\n",
              "            + ' to learn more about interactive tables.';\n",
              "          element.innerHTML = '';\n",
              "          dataTable['output_type'] = 'display_data';\n",
              "          await google.colab.output.renderOutput(dataTable, element);\n",
              "          const docLink = document.createElement('div');\n",
              "          docLink.innerHTML = docLinkHtml;\n",
              "          element.appendChild(docLink);\n",
              "        }\n",
              "      </script>\n",
              "    </div>\n",
              "  </div>\n",
              "  "
            ]
          },
          "metadata": {},
          "execution_count": 93
        }
      ]
    },
    {
      "cell_type": "code",
      "metadata": {
        "colab": {
          "base_uri": "https://localhost:8080/"
        },
        "id": "z95CNq2ibVpN",
        "outputId": "ad4d25a5-6c2b-456f-c590-e2045d79055d"
      },
      "source": [
        "X.shape"
      ],
      "id": "z95CNq2ibVpN",
      "execution_count": null,
      "outputs": [
        {
          "output_type": "execute_result",
          "data": {
            "text/plain": [
              "(217, 450)"
            ]
          },
          "metadata": {},
          "execution_count": 94
        }
      ]
    },
    {
      "cell_type": "code",
      "metadata": {
        "colab": {
          "base_uri": "https://localhost:8080/"
        },
        "id": "wOmyvidLbQMA",
        "outputId": "a9523374-cbf3-422b-f19b-7a2d00caf29a"
      },
      "source": [
        "X_train.shape"
      ],
      "id": "wOmyvidLbQMA",
      "execution_count": null,
      "outputs": [
        {
          "output_type": "execute_result",
          "data": {
            "text/plain": [
              "(173, 450)"
            ]
          },
          "metadata": {},
          "execution_count": 95
        }
      ]
    },
    {
      "cell_type": "code",
      "metadata": {
        "colab": {
          "base_uri": "https://localhost:8080/"
        },
        "id": "mAVOd1axbS3f",
        "outputId": "62b80bfb-62de-4a84-c884-bf54c40fa642"
      },
      "source": [
        "X_test.shape"
      ],
      "id": "mAVOd1axbS3f",
      "execution_count": null,
      "outputs": [
        {
          "output_type": "execute_result",
          "data": {
            "text/plain": [
              "(44, 450)"
            ]
          },
          "metadata": {},
          "execution_count": 96
        }
      ]
    },
    {
      "cell_type": "markdown",
      "metadata": {
        "id": "7563f382-037a-40db-8b55-6f74e1862ad0"
      },
      "source": [
        "### **1/ Model training** - finding the X<->y relation"
      ],
      "id": "7563f382-037a-40db-8b55-6f74e1862ad0"
    },
    {
      "cell_type": "code",
      "metadata": {
        "id": "3c5a70c5-ac43-4bce-aab0-2d181c746d45",
        "colab": {
          "base_uri": "https://localhost:8080/"
        },
        "outputId": "bbf42857-ae38-4840-df0e-4ca2b9dad9bf"
      },
      "source": [
        "from sklearn.linear_model import LogisticRegression\n",
        "from sklearn.ensemble import RandomForestClassifier\n",
        "\n",
        "# model = LogisticRegression(solver='liblinear') # We should standardize input before LogisticRegression (+ log1p)\n",
        "model = RandomForestClassifier()\n",
        "model.fit(X_train, y_train)"
      ],
      "id": "3c5a70c5-ac43-4bce-aab0-2d181c746d45",
      "execution_count": null,
      "outputs": [
        {
          "output_type": "execute_result",
          "data": {
            "text/plain": [
              "RandomForestClassifier()"
            ]
          },
          "metadata": {},
          "execution_count": 97
        }
      ]
    },
    {
      "cell_type": "markdown",
      "metadata": {
        "id": "2902d8c8-c3dc-4d41-9c44-c82a3438b250"
      },
      "source": [
        "### **2/ Model prediction** "
      ],
      "id": "2902d8c8-c3dc-4d41-9c44-c82a3438b250"
    },
    {
      "cell_type": "markdown",
      "metadata": {
        "id": "13eca34f-5032-45d4-a852-574d54191a0a"
      },
      "source": [
        "When model is trained, we can predict *target* variable based only on *features*."
      ],
      "id": "13eca34f-5032-45d4-a852-574d54191a0a"
    },
    {
      "cell_type": "code",
      "metadata": {
        "id": "18b2239f-7181-4dc4-bd14-2eb4bf3e1f2b",
        "colab": {
          "base_uri": "https://localhost:8080/"
        },
        "outputId": "fd0afc87-a458-4aba-bbf6-d52eab74249e"
      },
      "source": [
        "y_test_pred = model.predict(X_test)\n",
        "y_test_pred"
      ],
      "id": "18b2239f-7181-4dc4-bd14-2eb4bf3e1f2b",
      "execution_count": null,
      "outputs": [
        {
          "output_type": "execute_result",
          "data": {
            "text/plain": [
              "array(['Healthy', 'Healthy', 'Healthy', 'Healthy', 'Healthy',\n",
              "       'Stage_III_IV', 'Healthy', 'Stage_III_IV', 'Healthy', 'Healthy',\n",
              "       'Healthy', 'Healthy', 'Healthy', 'Healthy', 'Healthy', 'Healthy',\n",
              "       'Healthy', 'Healthy', 'Healthy', 'Healthy', 'Stage_III_IV',\n",
              "       'Healthy', 'Stage_III_IV', 'Healthy', 'Healthy', 'Healthy',\n",
              "       'Healthy', 'Healthy', 'Healthy', 'Healthy', 'Healthy', 'Healthy',\n",
              "       'Healthy', 'Healthy', 'Healthy', 'Healthy', 'Healthy', 'Healthy',\n",
              "       'Healthy', 'Stage_III_IV', 'Healthy', 'Healthy', 'Healthy',\n",
              "       'Healthy'], dtype=object)"
            ]
          },
          "metadata": {},
          "execution_count": 98
        }
      ]
    },
    {
      "cell_type": "markdown",
      "metadata": {
        "id": "485e57d3-fdec-4e2b-8844-7209337d381d"
      },
      "source": [
        "### **3/ Model Evaluation** - estimating the power of the X<->y relation"
      ],
      "id": "485e57d3-fdec-4e2b-8844-7209337d381d"
    },
    {
      "cell_type": "markdown",
      "metadata": {
        "id": "ffb7179c-c6a4-4b1e-8b5a-f7ca02f20b60"
      },
      "source": [
        "and then evaluate how accurate those predictions are."
      ],
      "id": "ffb7179c-c6a4-4b1e-8b5a-f7ca02f20b60"
    },
    {
      "cell_type": "code",
      "metadata": {
        "id": "0a066a96-2139-45f2-8262-53dff4def5a5",
        "colab": {
          "base_uri": "https://localhost:8080/"
        },
        "outputId": "25d6ae37-ac27-4653-9e21-5f27f1003054"
      },
      "source": [
        "from sklearn.metrics import accuracy_score\n",
        "\n",
        "acc_score = accuracy_score(y_test_pred, y_test)\n",
        "acc_score"
      ],
      "id": "0a066a96-2139-45f2-8262-53dff4def5a5",
      "execution_count": null,
      "outputs": [
        {
          "output_type": "execute_result",
          "data": {
            "text/plain": [
              "0.7727272727272727"
            ]
          },
          "metadata": {},
          "execution_count": 99
        }
      ]
    },
    {
      "cell_type": "markdown",
      "metadata": {
        "id": "8841ea80-e72c-4d69-8e52-ee9f43904713"
      },
      "source": [
        "**Accuracy** is not the best metric, especially for unbalanced datasets. We can use **Balanced Accuracy** or **ROC AUC** instead."
      ],
      "id": "8841ea80-e72c-4d69-8e52-ee9f43904713"
    },
    {
      "cell_type": "code",
      "metadata": {
        "id": "3a73031b-fe08-4fe7-a161-5e3502db15f8",
        "colab": {
          "base_uri": "https://localhost:8080/"
        },
        "outputId": "a0e1544e-cecb-47df-bb5f-24cc42dd4027"
      },
      "source": [
        "from sklearn.metrics import roc_auc_score, balanced_accuracy_score\n",
        "\n",
        "print('Balanced accuracy: ', balanced_accuracy_score(y_test, y_test_pred))\n",
        "print('ROC AUC: ', roc_auc_score(y_test, model.predict_proba(X_test)[:, 1]))"
      ],
      "id": "3a73031b-fe08-4fe7-a161-5e3502db15f8",
      "execution_count": null,
      "outputs": [
        {
          "output_type": "stream",
          "name": "stdout",
          "text": [
            "Balanced accuracy:  0.6377171215880894\n",
            "ROC AUC:  0.6898263027295286\n"
          ]
        }
      ]
    },
    {
      "cell_type": "markdown",
      "metadata": {
        "id": "11ee4e76-afd6-49ae-9534-4b883e7422b6"
      },
      "source": [
        "### **4/ Model Interpretation** - estimating the X<->y relation"
      ],
      "id": "11ee4e76-afd6-49ae-9534-4b883e7422b6"
    },
    {
      "cell_type": "code",
      "metadata": {
        "scrolled": true,
        "tags": [],
        "id": "7e195921-df94-496e-9345-c42c736f998c",
        "colab": {
          "base_uri": "https://localhost:8080/"
        },
        "outputId": "878ab5ca-96ac-4d5f-c0c4-1af1dcd2fb64"
      },
      "source": [
        "## For LogisticRegression\n",
        "# importance = model.coef_.abs() \n",
        "\n",
        "## For RandomForestClassifier\n",
        "importances = model.feature_importances_  \n",
        "importances[:5]"
      ],
      "id": "7e195921-df94-496e-9345-c42c736f998c",
      "execution_count": null,
      "outputs": [
        {
          "output_type": "execute_result",
          "data": {
            "text/plain": [
              "array([0.00118951, 0.00556605, 0.00486411, 0.00809809, 0.        ])"
            ]
          },
          "metadata": {},
          "execution_count": 101
        }
      ]
    },
    {
      "cell_type": "code",
      "metadata": {
        "id": "9a752209-79fc-4c38-b19c-26e766f3e536",
        "colab": {
          "base_uri": "https://localhost:8080/"
        },
        "outputId": "5a288239-0027-43e6-9a0f-25c0535d84f7"
      },
      "source": [
        "importances = pd.Series(\n",
        "    index=X.columns,\n",
        "    data=importances.squeeze()\n",
        ")\n",
        "importances.head()"
      ],
      "id": "9a752209-79fc-4c38-b19c-26e766f3e536",
      "execution_count": null,
      "outputs": [
        {
          "output_type": "execute_result",
          "data": {
            "text/plain": [
              "C00024_Acetyl CoA                     0.001190\n",
              "C01996_Acetylcholine                  0.005566\n",
              "C00147_Adenine                        0.004864\n",
              "C00212_Adenosine                      0.008098\n",
              "C00054_Adenosine 3',5'-diphosphate    0.000000\n",
              "dtype: float64"
            ]
          },
          "metadata": {},
          "execution_count": 102
        }
      ]
    },
    {
      "cell_type": "markdown",
      "metadata": {
        "id": "d2d433dc-3c10-47cb-a711-c0ba080e5b91"
      },
      "source": [
        "**Most important metabolites:**"
      ],
      "id": "d2d433dc-3c10-47cb-a711-c0ba080e5b91"
    },
    {
      "cell_type": "code",
      "metadata": {
        "id": "a932d9a2-f614-4dfc-90ea-fa33414b315d",
        "colab": {
          "base_uri": "https://localhost:8080/"
        },
        "outputId": "ed205f05-dba1-4a32-8e9d-4945316f40c7"
      },
      "source": [
        "importances.sort_values(ascending=False).head(10)"
      ],
      "id": "a932d9a2-f614-4dfc-90ea-fa33414b315d",
      "execution_count": null,
      "outputs": [
        {
          "output_type": "execute_result",
          "data": {
            "text/plain": [
              "C00864_Pantothenate               0.018175\n",
              "C00386_Carnosine                  0.016913\n",
              "C01026_N,N-Dimethylglycine        0.016199\n",
              "C00785_Urocanate                  0.015054\n",
              "C01035_gamma-Guanidinobutyrate    0.014635\n",
              "C01015_Hydroxyproline             0.013493\n",
              "C00099_beta-Ala                   0.013375\n",
              "C03626_ADMA                       0.012975\n",
              "C00049_Asp                        0.011324\n",
              "C00065_Ser                        0.010631\n",
              "dtype: float64"
            ]
          },
          "metadata": {},
          "execution_count": 103
        }
      ]
    },
    {
      "cell_type": "code",
      "metadata": {
        "id": "7a4677d0-9267-4ff8-8ccf-2aa322bb7fde",
        "colab": {
          "base_uri": "https://localhost:8080/",
          "height": 297
        },
        "outputId": "b9945bbb-f060-45c0-dd83-da33853682d8"
      },
      "source": [
        "sns.boxplot(\n",
        "    data=metabolites[is_in_34_or_healthy],\n",
        "    x='Group',\n",
        "    y='C00864_Pantothenate'\n",
        ")"
      ],
      "id": "7a4677d0-9267-4ff8-8ccf-2aa322bb7fde",
      "execution_count": null,
      "outputs": [
        {
          "output_type": "execute_result",
          "data": {
            "text/plain": [
              "<matplotlib.axes._subplots.AxesSubplot at 0x7fe397d31be0>"
            ]
          },
          "metadata": {},
          "execution_count": 105
        },
        {
          "output_type": "display_data",
          "data": {
            "text/plain": [
              "<Figure size 432x288 with 1 Axes>"
            ],
            "image/png": "[encoded data removed]"
          },
          "metadata": {
            "needs_background": "light"
          }
        }
      ]
    },
    {
      "cell_type": "markdown",
      "source": [
        "## $\\color{purple}{\\text{Exercise 3}}$\n",
        "\n",
        "Repeat the same training-testing procedure for `Healthy vs Stage_I_II` problem. Is the found relation stronger or not? Why?\n",
        "\n",
        "[5 min]\n"
      ],
      "metadata": {
        "id": "BMsqLEMQ0av9"
      },
      "id": "BMsqLEMQ0av9"
    },
    {
      "cell_type": "code",
      "source": [
        "# Your code goes here"
      ],
      "metadata": {
        "id": "KhZF-zbJ0Zjs"
      },
      "id": "KhZF-zbJ0Zjs",
      "execution_count": null,
      "outputs": []
    },
    {
      "cell_type": "markdown",
      "metadata": {
        "id": "d28cf0c8-9b39-41d6-abb8-4ad000ba4891"
      },
      "source": [
        "## Cross Validation"
      ],
      "id": "d28cf0c8-9b39-41d6-abb8-4ad000ba4891"
    },
    {
      "cell_type": "code",
      "metadata": {
        "id": "69343606-38ed-4d95-9d6d-29ac66d9758f"
      },
      "source": [
        "from sklearn.model_selection import cross_validate\n",
        "\n",
        "results = cross_validate(\n",
        "    estimator=model,\n",
        "    X=X,\n",
        "    y=y,\n",
        "    cv=10,\n",
        "    scoring='accuracy',\n",
        "    return_estimator=True\n",
        ")\n",
        "\n",
        "results"
      ],
      "id": "69343606-38ed-4d95-9d6d-29ac66d9758f",
      "execution_count": null,
      "outputs": []
    },
    {
      "cell_type": "code",
      "metadata": {
        "id": "4ea69701-18e1-4a23-bdd7-7d22c7ffe115"
      },
      "source": [
        "results['test_score'].mean(), results['test_score'].std()"
      ],
      "id": "4ea69701-18e1-4a23-bdd7-7d22c7ffe115",
      "execution_count": null,
      "outputs": []
    },
    {
      "cell_type": "code",
      "metadata": {
        "id": "9955167b-df7d-411a-ae56-07a051e01647"
      },
      "source": [
        "importances = pd.DataFrame(\n",
        "    data=[est.feature_importances_ for est in results['estimator']],\n",
        "    columns=X.columns\n",
        ")\n",
        "\n",
        "importances.agg(['mean', 'std']).T.sort_values('mean', ascending=False).head(10)"
      ],
      "id": "9955167b-df7d-411a-ae56-07a051e01647",
      "execution_count": null,
      "outputs": []
    },
    {
      "cell_type": "code",
      "metadata": {
        "id": "94ea84c4-7417-486a-9b98-ff806e11ade3"
      },
      "source": [
        "sns.boxplot(\n",
        "    data=metabolites[is_in_34_or_healthy],\n",
        "    x='Group',\n",
        "    y='C01026_N,N-Dimethylglycine'\n",
        ")"
      ],
      "id": "94ea84c4-7417-486a-9b98-ff806e11ade3",
      "execution_count": null,
      "outputs": []
    },
    {
      "cell_type": "markdown",
      "metadata": {
        "id": "62f22046-2077-4ad9-857d-e69e0eeaff88"
      },
      "source": [
        "## $\\color{purple}{\\text{Exercise 4}}$\n",
        "\n",
        "1. Repeat the same crossvalidation procedure for `Healthy vs Stage_I_II` problem. Is the found relation stronger or not? Why? Are there the exact most important features? Why? If there is time, you can also compare it with `Healthy vs Stage_0` case.\n",
        "2. (Optionally) Same but to predict `Gender`. How can this model be useful?\n",
        "\n",
        "[8 min]"
      ],
      "id": "62f22046-2077-4ad9-857d-e69e0eeaff88"
    },
    {
      "cell_type": "code",
      "metadata": {
        "id": "f4806e3a-ae98-47b8-a694-d1f3e96533d5"
      },
      "source": [
        "# Your code goes here"
      ],
      "id": "f4806e3a-ae98-47b8-a694-d1f3e96533d5",
      "execution_count": null,
      "outputs": []
    },
    {
      "cell_type": "markdown",
      "metadata": {
        "id": "958136e7-c69e-4736-ace0-09fe3e870b8f"
      },
      "source": [
        "## $\\color{darkorange}{\\text{Homework}}$\n",
        "1. Go to https://archive.ics.uci.edu/ml/index.php\n",
        "2. Select one dataset (choose one with csv or tsv file - it will be easier to start).\n",
        "3. Repeat similar analysis as in this notebook."
      ],
      "id": "958136e7-c69e-4736-ace0-09fe3e870b8f"
    }
  ]
}